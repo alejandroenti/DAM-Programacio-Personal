{
 "cells": [
  {
   "cell_type": "markdown",
   "metadata": {},
   "source": [
    "<div style=\"display: flex; width: 100%;\">\n",
    "    <div style=\"flex: 1; padding: 0px;\">\n",
    "        <p>© Albert Palacios Jiménez, 2023</p>\n",
    "    </div>\n",
    "    <div style=\"flex: 1; padding: 0px; text-align: right;\">\n",
    "        <img src=\"../assets/ieti.png\" height=\"32\" alt=\"Logo de IETI\" style=\"max-height: 32px;\">\n",
    "    </div>\n",
    "</div>\n",
    "<hr/>"
   ]
  },
  {
   "cell_type": "markdown",
   "metadata": {},
   "source": [
    "# Autoaprenentatge 1\n",
    "\n",
    "Aquests exercicis estàn resolts, perquè primer practiquis i després comprovis si ho has fet bé.\n",
    "\n",
    "Recorda que no hi ha una única solució correcta, hi ha diferents maneres de resoldre un mateix problema.\n",
    "\n",
    "Però no facis trampes, recorda també que cada mentida fa un sopar més agre."
   ]
  },
  {
   "cell_type": "markdown",
   "metadata": {},
   "source": [
    "## Exercici 0\n",
    "\n",
    "Fes un generador de nombres imparells entre 2 i un numero donat."
   ]
  },
  {
   "cell_type": "code",
   "execution_count": null,
   "metadata": {},
   "outputs": [],
   "source": [
    "# Fes aquí el codi de l'exericici 0"
   ]
  },
  {
   "cell_type": "markdown",
   "metadata": {},
   "source": [
    "## Exercici 1\n",
    "\n",
    "Fes un programa que simuli una partida entre en Pau i la Paz\n",
    "\n",
    "Tiren una moneda a l'aire i guanya el primer que treu tres cops cara\n",
    "\n",
    "A cada tirada es mostra, segons correspon:\n",
    "```text\n",
    "En Pau ha tret cara (2), la Paz ha tret cara (1)\n",
    "```"
   ]
  },
  {
   "cell_type": "code",
   "execution_count": null,
   "metadata": {},
   "outputs": [],
   "source": [
    "# Fes aquí el codi de l'exericici 1"
   ]
  },
  {
   "cell_type": "markdown",
   "metadata": {},
   "source": [
    "## Exercici 2\n",
    "\n",
    "Fes un programa que dibuixi un rectangle a partir d'asteriscos.\n",
    "\n",
    "El programa té com a entrada un ample i un alt.\n",
    "\n",
    "La part interior del rectangle ha d'estar emplenada amb o"
   ]
  },
  {
   "cell_type": "code",
   "execution_count": null,
   "metadata": {},
   "outputs": [],
   "source": [
    "# Fes aquí el codi de l'exericici 2"
   ]
  },
  {
   "cell_type": "markdown",
   "metadata": {},
   "source": [
    "## Exercici 3\n",
    "\n",
    "Fes un programa que demani una data i digui quin dia de la setmana és.\n",
    "\n",
    "Primer demana la data de naixement en format dd/mm/aaaa.\n",
    "\n",
    "Si el format no és correcte, mostra el missatge \"Format incorrecte\" i torna a demanar la data."
   ]
  },
  {
   "cell_type": "code",
   "execution_count": null,
   "metadata": {},
   "outputs": [],
   "source": [
    "# Exemple d'obtenir el dia de la setmana a partir d'una data\n",
    "import datetime\n",
    "data = datetime.datetime.strptime(\"03/11/2023\", \"%d/%m/%Y\")\n",
    "print(data.strftime(\"%A\"))"
   ]
  },
  {
   "cell_type": "code",
   "execution_count": null,
   "metadata": {},
   "outputs": [],
   "source": [
    "# Fes aquí el codi de l'exericici 3"
   ]
  },
  {
   "cell_type": "markdown",
   "metadata": {},
   "source": [
    "## Exercici 4\n",
    "\n",
    "Fes un programa que demani a l'usuari el radi d'un cercle (un nombre positiu) i calculi l'àrea d'aquest cercle. \n",
    "\n",
    "Si el valor escrit no és positiu, torna a demanar-lo. \n",
    "\n",
    "Mostra l'àrea del cercle al final.\n",
    "\n",
    "L'àra d'un cercle es calcula amb la fórmula A = π * (r^2), on r és el radi."
   ]
  },
  {
   "cell_type": "code",
   "execution_count": null,
   "metadata": {},
   "outputs": [],
   "source": [
    "# Exemple de PI en python\n",
    "import math\n",
    "print(math.pi)"
   ]
  },
  {
   "cell_type": "code",
   "execution_count": null,
   "metadata": {},
   "outputs": [],
   "source": [
    "import math\n",
    "\n",
    "# Fes aquí el codi de l'exericici 0"
   ]
  },
  {
   "cell_type": "markdown",
   "metadata": {},
   "source": [
    "## Exercici 5\n",
    "\n",
    "Fes un programa que pregunti quants nombres es volen generar.\n",
    "\n",
    "Si l'usuari escriu un valor incorrecte, el torna a demanar.\n",
    "\n",
    "Després ha de generar 'x' nombres aleatoris (entre 0 i x, on x és el nombre escrit per l'usuari)\n",
    "\n",
    "Per cada nombre generat, mostra els següents missatges segons correspongui:\n",
    "\n",
    "L - El nombre X és més gran que l'anterior\n",
    "\n",
    "L - En nombre X és igual a l'anterior\n",
    "\n",
    "L - El nombre X és més petit que l'anterior\n",
    "\n",
    "I així fins que hagi generat tots els nombres.\n",
    "\n",
    "L és el número de línia comença per 0"
   ]
  },
  {
   "cell_type": "code",
   "execution_count": null,
   "metadata": {},
   "outputs": [],
   "source": [
    "# Fes aquí el codi de l'exericici 5"
   ]
  },
  {
   "cell_type": "markdown",
   "metadata": {},
   "source": [
    "## Exercici 6\n",
    "\n",
    "Fes un programa que a partir de dos nombres per dividir\n",
    "\n",
    "El resultat ha d'estar formatat amb columnes d'aquesta manera:\n",
    "```text\n",
    "Operands       |   Resultat   |         Residu|\n",
    "10 / 3         |     3.33     |              1|\n",
    "```\n",
    "Cada columna ha de tenir 15 caràcters de llarg.\n",
    "* La primera columna ha de ser alineada a l'esquerra\n",
    "* La segona columna ha de ser centrada\n",
    "* La tercera columna ha de ser alineada a la dreta"
   ]
  },
  {
   "cell_type": "code",
   "execution_count": null,
   "metadata": {},
   "outputs": [],
   "source": [
    "# Fes aquí el codi de l'exericici 6"
   ]
  },
  {
   "cell_type": "markdown",
   "metadata": {},
   "source": [
    "## Exercici 7\n",
    "\n",
    "Fes un programa que demani a l'usuari un número entre 1 i 9.\n",
    "\n",
    "Si l'usuari escriu un valor incorrecte, el torna a demanar.\n",
    "\n",
    "Deprés fes una funció (es_multiple) que rep dos valors, un número i un múltiple. La funció retorna True si el número és múltiple del múltiple.\n",
    "\n",
    "És a dir:\n",
    "```python\n",
    "es_multiple(10, 5) # True\n",
    "es_multiple(10, 3) # False\n",
    "```\n",
    "\n",
    "Després fes que el programa generi un número aleatori entre 50 i 100.\n",
    "\n",
    "Finalment, el programa ha de:\n",
    "* Mostrar tots els múltiples entre 1 i el número aleatori generat.\n",
    "* Multiplicar tots els múltiples entre 1 i el número aleatori generat."
   ]
  },
  {
   "cell_type": "code",
   "execution_count": null,
   "metadata": {},
   "outputs": [],
   "source": [
    "# Fes aquí el codi de l'exericici 7"
   ]
  },
  {
   "cell_type": "markdown",
   "metadata": {},
   "source": [
    "## Exercici 8\n",
    "\n",
    "Fes un programa que dibuixi les lletres majúscules de l'abecedari en 5 files i 6 columnes d'aquesta manera:\n",
    "\n",
    "```text\n",
    "A B C D E F\n",
    "G H I J K L\n",
    "M N O P Q R\n",
    "S T U V W X\n",
    "Y Z\n",
    "```\n",
    "Fes servir la funció chr() per convertir un número en un caràcter.\n",
    "\n",
    "El valor ASCII de la lletra A és 65, el de la Z és 90."
   ]
  },
  {
   "cell_type": "code",
   "execution_count": null,
   "metadata": {},
   "outputs": [],
   "source": [
    "# Fes aquí el codi de l'exericici 8"
   ]
  },
  {
   "cell_type": "markdown",
   "metadata": {},
   "source": [
    "## Exercici 9\n",
    "\n",
    "Fes un programa que dibuixi la taula invertida següent:\n",
    "\n",
    "```text\n",
    "f e d c b a \n",
    "l k j i h g \n",
    "r q p o n m \n",
    "x w v u t s \n",
    "z y \n",
    "```\n",
    "\n",
    "El valor ASCII de la lletra a és 97, el de la z és 122."
   ]
  },
  {
   "cell_type": "code",
   "execution_count": null,
   "metadata": {},
   "outputs": [],
   "source": [
    "# Fes aquí el codi de l'exericici 9"
   ]
  },
  {
   "cell_type": "markdown",
   "metadata": {},
   "source": [
    "## Exercici 10\n",
    "\n",
    "Fes un programa que dibuixi la taula alternada següent:\n",
    "```text\n",
    "A 1 B 2 C 3 D 4\n",
    "E 5 F 6 G 7 H 8\n",
    "I 9 J 0 K 1 L 2\n",
    "M 3 N 4 O 5 P 6\n",
    "```\n",
    "El valor ASCII de la lletra A és 65, el de la P és 80.\n",
    "El valor ASCII del número 1 és 49, el del 9 és 57."
   ]
  },
  {
   "cell_type": "code",
   "execution_count": null,
   "metadata": {},
   "outputs": [],
   "source": [
    "# Fes aquí el codi de l'exericici 10"
   ]
  }
 ],
 "metadata": {
  "kernelspec": {
   "display_name": "Python 3",
   "language": "python",
   "name": "python3"
  },
  "language_info": {
   "codemirror_mode": {
    "name": "ipython",
    "version": 3
   },
   "file_extension": ".py",
   "mimetype": "text/x-python",
   "name": "python",
   "nbconvert_exporter": "python",
   "pygments_lexer": "ipython3",
   "version": "3.11.5"
  },
  "orig_nbformat": 4
 },
 "nbformat": 4,
 "nbformat_minor": 2
}
