{
 "cells": [
  {
   "cell_type": "markdown",
   "metadata": {},
   "source": [
    "<div style=\"display: flex; width: 100%;\">\n",
    "    <div style=\"flex: 1; padding: 0px;\">\n",
    "        <p>© Albert Palacios Jiménez, 2023</p>\n",
    "    </div>\n",
    "    <div style=\"flex: 1; padding: 0px; text-align: right;\">\n",
    "        <img src=\"../assets/ieti.png\" height=\"32\" alt=\"Logo de IETI\" style=\"max-height: 32px;\">\n",
    "    </div>\n",
    "</div>\n",
    "<hr/>"
   ]
  },
  {
   "cell_type": "markdown",
   "metadata": {},
   "source": [
    "# Autoaprenentatge 1\n",
    "\n",
    "Aquests exercicis estàn resolts, perquè primer practiquis i després comprovis si ho has fet bé.\n",
    "\n",
    "Recorda que no hi ha una única solució correcta, hi ha diferents maneres de resoldre un mateix problema.\n",
    "\n",
    "Però no facis trampes, recorda també que cada mentida fa un sopar més agre."
   ]
  },
  {
   "cell_type": "markdown",
   "metadata": {},
   "source": [
    "## Exercici 0\n",
    "\n",
    "Fes un generador de nombres imparells entre 2 i un numero donat."
   ]
  },
  {
   "cell_type": "code",
   "execution_count": 2,
   "metadata": {},
   "outputs": [
    {
     "name": "stdout",
     "output_type": "stream",
     "text": [
      "Els números imparells entre 2 i 31 són: 3 5 7 9 11 13 15 17 19 21 23 25 27 29 31 "
     ]
    }
   ],
   "source": [
    "# Fes aquí el codi de l'exericici 0\n",
    "num_user = int(input(\"Introdueix un números fins a contar números imparells: \"))\n",
    "\n",
    "print(f\"Els números imparells entre 2 i {num_user} són:\", end=\" \")\n",
    "\n",
    "for num in range(2, num_user + 1):\n",
    "    if num % 2 != 0:\n",
    "        print(num, end=\" \")"
   ]
  },
  {
   "cell_type": "markdown",
   "metadata": {},
   "source": [
    "## Exercici 1\n",
    "\n",
    "Fes un programa que simuli una partida entre en Pau i la Paz\n",
    "\n",
    "Tiren una moneda a l'aire i guanya el primer que treu tres cops cara\n",
    "\n",
    "A cada tirada es mostra, segons correspon:\n",
    "```text\n",
    "En Pau ha tret cara (2), la Paz ha tret cara (1)\n",
    "```"
   ]
  },
  {
   "cell_type": "code",
   "execution_count": 6,
   "metadata": {},
   "outputs": [
    {
     "name": "stdout",
     "output_type": "stream",
     "text": [
      "En Pau ha tret creu (0), la Paz ha tret creu (0)\n",
      "En Pau ha tret creu (0), la Paz ha tret creu (0)\n",
      "En Pau ha tret cara (1), la Paz ha tret creu (0)\n",
      "En Pau ha tret creu (1), la Paz ha tret creu (0)\n",
      "En Pau ha tret creu (1), la Paz ha tret creu (0)\n",
      "En Pau ha tret cara (2), la Paz ha tret cara (1)\n",
      "En Pau ha tret cara (3), la Paz ha tret creu (1)\n",
      "Ha guanyat en Pau\n"
     ]
    }
   ],
   "source": [
    "# Fes aquí el codi de l'exericici 1\n",
    "import random\n",
    "\n",
    "def play():\n",
    "    coin = random.randint(1,2)\n",
    "    \n",
    "    if coin == 1:\n",
    "        return \"cara\"\n",
    "    else:\n",
    "        return \"creu\"\n",
    "\n",
    "pau_points = 0\n",
    "paz_points = 0\n",
    "is_playing = True\n",
    "\n",
    "while is_playing:\n",
    "    pau_play = play()\n",
    "    if pau_play == \"cara\": pau_points += 1\n",
    "\n",
    "    paz_play = play()\n",
    "    if paz_play == \"cara\": paz_points += 1\n",
    "\n",
    "    print(f\"En Pau ha tret {pau_play} ({pau_points}), la Paz ha tret {paz_play} ({paz_points})\")\n",
    "\n",
    "    if pau_points >= 3 or paz_points >= 3:\n",
    "        is_playing = False\n",
    "\n",
    "        if pau_points == paz_points:\n",
    "            print(\"Ha hagut un empat\")\n",
    "        elif pau_points > paz_points:\n",
    "            print(\"Ha guanyat en Pau\")\n",
    "        else:\n",
    "            print(\"Ha guanyat la Paz\")"
   ]
  },
  {
   "cell_type": "markdown",
   "metadata": {},
   "source": [
    "## Exercici 2\n",
    "\n",
    "Fes un programa que dibuixi un rectangle a partir d'asteriscos.\n",
    "\n",
    "El programa té com a entrada un ample i un alt.\n",
    "\n",
    "La part interior del rectangle ha d'estar emplenada amb o"
   ]
  },
  {
   "cell_type": "code",
   "execution_count": 10,
   "metadata": {},
   "outputs": [
    {
     "name": "stdout",
     "output_type": "stream",
     "text": [
      "************************************************************\n",
      "*oooooooooooooooooooooooooooooooooooooooooooooooooooooooooo*\n",
      "*oooooooooooooooooooooooooooooooooooooooooooooooooooooooooo*\n",
      "*oooooooooooooooooooooooooooooooooooooooooooooooooooooooooo*\n",
      "*oooooooooooooooooooooooooooooooooooooooooooooooooooooooooo*\n",
      "*oooooooooooooooooooooooooooooooooooooooooooooooooooooooooo*\n",
      "*oooooooooooooooooooooooooooooooooooooooooooooooooooooooooo*\n",
      "*oooooooooooooooooooooooooooooooooooooooooooooooooooooooooo*\n",
      "*oooooooooooooooooooooooooooooooooooooooooooooooooooooooooo*\n",
      "************************************************************\n"
     ]
    }
   ],
   "source": [
    "# Fes aquí el codi de l'exericici 2\n",
    "char_border = \"*\"\n",
    "char_fill = \"o\"\n",
    "\n",
    "def print_rectangle(width, height):\n",
    "    for row in range(1, height + 1):\n",
    "        if row != 1 and row != height:\n",
    "            print(f\"{char_border}{\"\".center(width - 2, char_fill)}{char_border}\")\n",
    "        else:\n",
    "            print(\"\".center(width, char_border))\n",
    "\n",
    "width = int(input(\"Introdueix l'amplada del rectangle: \"))\n",
    "height = int(input(\"Introdueix l'alçada del rectangle: \"))\n",
    "print_rectangle(width, height)"
   ]
  },
  {
   "cell_type": "markdown",
   "metadata": {},
   "source": [
    "## Exercici 3\n",
    "\n",
    "Fes un programa que demani una data i digui quin dia de la setmana és.\n",
    "\n",
    "Primer demana la data de naixement en format dd/mm/aaaa.\n",
    "\n",
    "Si el format no és correcte, mostra el missatge \"Format incorrecte\" i torna a demanar la data."
   ]
  },
  {
   "cell_type": "code",
   "execution_count": 11,
   "metadata": {},
   "outputs": [
    {
     "name": "stdout",
     "output_type": "stream",
     "text": [
      "Friday\n"
     ]
    }
   ],
   "source": [
    "# Exemple d'obtenir el dia de la setmana a partir d'una data\n",
    "import datetime\n",
    "data = datetime.datetime.strptime(\"03/11/2023\", \"%d/%m/%Y\")\n",
    "print(data.strftime(\"%A\"))"
   ]
  },
  {
   "cell_type": "code",
   "execution_count": 14,
   "metadata": {},
   "outputs": [
    {
     "name": "stdout",
     "output_type": "stream",
     "text": [
      "Vas néixer un Monday\n"
     ]
    }
   ],
   "source": [
    "# Fes aquí el codi de l'exericici 3\n",
    "date_valid = False\n",
    "\n",
    "while not date_valid:\n",
    "    date_user = input(\"Introdueix la teva data de naixemente [dd/mm/aaaa]:\")\n",
    "\n",
    "    try:\n",
    "        date = datetime.datetime.strptime(date_user, \"%d/%m/%Y\")\n",
    "        date_valid = True\n",
    "    except ValueError:\n",
    "        print(\"Format de la data invàlid [dd/mm/aaaa]\")\n",
    "\n",
    "print(f\"Vas néixer un {date.strftime(\"%A\")}\")"
   ]
  },
  {
   "cell_type": "markdown",
   "metadata": {},
   "source": [
    "## Exercici 4\n",
    "\n",
    "Fes un programa que demani a l'usuari el radi d'un cercle (un nombre positiu) i calculi l'àrea d'aquest cercle. \n",
    "\n",
    "Si el valor escrit no és positiu, torna a demanar-lo. \n",
    "\n",
    "Mostra l'àrea del cercle al final.\n",
    "\n",
    "L'àra d'un cercle es calcula amb la fórmula A = π * (r^2), on r és el radi."
   ]
  },
  {
   "cell_type": "code",
   "execution_count": 15,
   "metadata": {},
   "outputs": [
    {
     "name": "stdout",
     "output_type": "stream",
     "text": [
      "3.141592653589793\n"
     ]
    }
   ],
   "source": [
    "# Exemple de PI en python\n",
    "import math\n",
    "print(math.pi)"
   ]
  },
  {
   "cell_type": "code",
   "execution_count": 17,
   "metadata": {},
   "outputs": [
    {
     "name": "stdout",
     "output_type": "stream",
     "text": [
      "L'àrea del cercle amb radi 10.0 és 314.16u^2\n"
     ]
    }
   ],
   "source": [
    "import math\n",
    "\n",
    "# Fes aquí el codi de l'exericici 0\n",
    "valid_radius = False\n",
    "\n",
    "while not valid_radius:\n",
    "    user_radius = float(input(\"Introdueix el radi d'un cercle: \"))\n",
    "\n",
    "    if user_radius <= 0:\n",
    "        print(\"El radi ha de ser major de 0.\")\n",
    "        continue\n",
    "\n",
    "    valid_radius = True\n",
    "\n",
    "area = math.pi * math.pow(user_radius, 2)\n",
    "print(f\"L'àrea del cercle amb radi {user_radius} és {area:.2f}u^2\")"
   ]
  },
  {
   "cell_type": "markdown",
   "metadata": {},
   "source": [
    "## Exercici 5\n",
    "\n",
    "Fes un programa que pregunti quants nombres es volen generar.\n",
    "\n",
    "Si l'usuari escriu un valor incorrecte, el torna a demanar.\n",
    "\n",
    "Després ha de generar 'x' nombres aleatoris (entre 0 i x, on x és el nombre escrit per l'usuari)\n",
    "\n",
    "Per cada nombre generat, mostra els següents missatges segons correspongui:\n",
    "\n",
    "L - El nombre X és més gran que l'anterior\n",
    "\n",
    "L - En nombre X és igual a l'anterior\n",
    "\n",
    "L - El nombre X és més petit que l'anterior\n",
    "\n",
    "I així fins que hagi generat tots els nombres.\n",
    "\n",
    "L és el número de línia comença per 0"
   ]
  },
  {
   "cell_type": "code",
   "execution_count": 19,
   "metadata": {},
   "outputs": [
    {
     "name": "stdout",
     "output_type": "stream",
     "text": [
      "0 - El nombre 2 és més gran que l'anterior\n",
      "1 - El nombre 7 és més gran que l'anterior\n",
      "2 - El nombre 10 és més gran que l'anterior\n",
      "3 - El nombre 4 és més petit que l'anterior\n",
      "4 - El nombre 10 és més gran que l'anterior\n"
     ]
    }
   ],
   "source": [
    "# Fes aquí el codi de l'exericici 5\n",
    "valid_nums = False\n",
    "\n",
    "while not valid_nums:\n",
    "    num_names = int(input(\"Introdueix el nombre de noms a generar: \"))\n",
    "\n",
    "    if num_names <=0:\n",
    "        print(\"El noms ha generar han de ser més de 0.\")\n",
    "        continue\n",
    "\n",
    "    valid_nums = True\n",
    "\n",
    "tmp = -1\n",
    "\n",
    "for i in range(num_names):\n",
    "    num = random.randint(0, 10)\n",
    "\n",
    "    if num == tmp:\n",
    "        print(f\"{i} - El nombre {num} és igual a l'anterior\")\n",
    "    elif num > tmp:\n",
    "        print(f\"{i} - El nombre {num} és més gran que l'anterior\")\n",
    "    else:\n",
    "        print(f\"{i} - El nombre {num} és més petit que l'anterior\")\n",
    "\n",
    "    tmp = num"
   ]
  },
  {
   "cell_type": "markdown",
   "metadata": {},
   "source": [
    "## Exercici 6\n",
    "\n",
    "Fes un programa que a partir de dos nombres per dividir\n",
    "\n",
    "El resultat ha d'estar formatat amb columnes d'aquesta manera:\n",
    "```text\n",
    "Operands       |   Resultat   |         Residu|\n",
    "10 / 3         |     3.33     |              1|\n",
    "```\n",
    "Cada columna ha de tenir 15 caràcters de llarg.\n",
    "* La primera columna ha de ser alineada a l'esquerra\n",
    "* La segona columna ha de ser centrada\n",
    "* La tercera columna ha de ser alineada a la dreta"
   ]
  },
  {
   "cell_type": "code",
   "execution_count": 23,
   "metadata": {},
   "outputs": [
    {
     "name": "stdout",
     "output_type": "stream",
     "text": [
      "Operands       |    Resultat   |         Residu|\n",
      "10 / 3         |      3.33     |              1|\n"
     ]
    }
   ],
   "source": [
    "# Fes aquí el codi de l'exericici 6\n",
    "num1 = int(input(\"Introdueix el primer operand: \"))\n",
    "num2 = int(input(\"Introdueix el segon operand: \"))\n",
    "\n",
    "print(f\"{\"Operands\".ljust(15)}|{\"Resultat\".center(15)}|{\"Residu\".rjust(15)}|\")\n",
    "print(f\"{f\"{num1} / {num2}\".ljust(15)}|{f\"{(num1 / num2):.2f}\".center(15)}|{f\"{num1 % num2:.0f}\".rjust(15)}|\")"
   ]
  },
  {
   "cell_type": "markdown",
   "metadata": {},
   "source": [
    "## Exercici 7\n",
    "\n",
    "Fes un programa que demani a l'usuari un número entre 1 i 9.\n",
    "\n",
    "Si l'usuari escriu un valor incorrecte, el torna a demanar.\n",
    "\n",
    "Deprés fes una funció (es_multiple) que rep dos valors, un número i un múltiple. La funció retorna True si el número és múltiple del múltiple.\n",
    "\n",
    "És a dir:\n",
    "```python\n",
    "es_multiple(10, 5) # True\n",
    "es_multiple(10, 3) # False\n",
    "```\n",
    "\n",
    "Després fes que el programa generi un número aleatori entre 50 i 100.\n",
    "\n",
    "Finalment, el programa ha de:\n",
    "* Mostrar tots els múltiples entre 1 i el número aleatori generat.\n",
    "* Multiplicar tots els múltiples entre 1 i el número aleatori generat."
   ]
  },
  {
   "cell_type": "code",
   "execution_count": 28,
   "metadata": {},
   "outputs": [
    {
     "name": "stdout",
     "output_type": "stream",
     "text": [
      "Els múltiples del número 52 són 1 2 4 13 26 52 \n",
      "Els múltiples multiplicats del número 52 donen el resutat de 140608\n"
     ]
    }
   ],
   "source": [
    "# Fes aquí el codi de l'exericici 7\n",
    "def es_multiple(num1, num2):\n",
    "    return num1 % num2 == 0\n",
    "\n",
    "valid_num = False\n",
    "\n",
    "while not valid_num:\n",
    "    user_num = int(input(\"Introdueix un número entre 1 i 9: \"))\n",
    "\n",
    "    if user_num < 1 or user_num > 9:\n",
    "        print(\"El número ha d'estar entre 1 i 9\")\n",
    "        continue\n",
    "\n",
    "    valid_num = True\n",
    "\n",
    "random_num = random.randint(50, 100)\n",
    "\n",
    "print(f\"Els múltiples del número {random_num} són\", end=\" \")\n",
    "multiples_multiplicats = 1\n",
    "\n",
    "for i in range(1, random_num + 1):\n",
    "    if es_multiple(random_num, i):\n",
    "        print(i, end=\" \")\n",
    "        multiples_multiplicats *= i\n",
    "\n",
    "print(f\"\\nEls múltiples multiplicats del número {random_num} donen el resutat de {multiples_multiplicats}\")"
   ]
  },
  {
   "cell_type": "markdown",
   "metadata": {},
   "source": [
    "## Exercici 8\n",
    "\n",
    "Fes un programa que dibuixi les lletres majúscules de l'abecedari en 5 files i 6 columnes d'aquesta manera:\n",
    "\n",
    "```text\n",
    "A B C D E F\n",
    "G H I J K L\n",
    "M N O P Q R\n",
    "S T U V W X\n",
    "Y Z\n",
    "```\n",
    "Fes servir la funció chr() per convertir un número en un caràcter.\n",
    "\n",
    "El valor ASCII de la lletra A és 65, el de la Z és 90."
   ]
  },
  {
   "cell_type": "code",
   "execution_count": 32,
   "metadata": {},
   "outputs": [
    {
     "name": "stdout",
     "output_type": "stream",
     "text": [
      "A B C D E F \n",
      "G H I J K L \n",
      "M N O P Q R \n",
      "S T U V W X \n",
      "Y Z \n",
      "\n"
     ]
    }
   ],
   "source": [
    "# Fes aquí el codi de l'exericici 8\n",
    "ascii_a = 65\n",
    "ascii_z = 90\n",
    "count = 0\n",
    "\n",
    "for row in range(0, 6):\n",
    "    for column in range(0, 6):\n",
    "        char_num = ascii_a + count\n",
    "        if char_num <= ascii_z:\n",
    "            char = chr(char_num)\n",
    "            print(char, end=\" \")\n",
    "            count += 1\n",
    "    print()"
   ]
  },
  {
   "cell_type": "markdown",
   "metadata": {},
   "source": [
    "## Exercici 9\n",
    "\n",
    "Fes un programa que dibuixi la taula invertida següent:\n",
    "\n",
    "```text\n",
    "f e d c b a \n",
    "l k j i h g \n",
    "r q p o n m \n",
    "x w v u t s \n",
    "z y \n",
    "```\n",
    "\n",
    "El valor ASCII de la lletra a és 97, el de la z és 122."
   ]
  },
  {
   "cell_type": "code",
   "execution_count": 40,
   "metadata": {},
   "outputs": [
    {
     "name": "stdout",
     "output_type": "stream",
     "text": [
      "f e d c b a \n",
      "l k j i h g \n",
      "r q p o n m \n",
      "x w v u t s \n",
      "z y \n",
      "\n"
     ]
    }
   ],
   "source": [
    "# Fes aquí el codi de l'exericici 9\n",
    "ascii_a = 97\n",
    "ascii_z = 122\n",
    "count = -1\n",
    "\n",
    "for row in range(0, 6):\n",
    "    for column in range(6, 0, -1):\n",
    "        char_num = ascii_a + count + column\n",
    "        if char_num <= ascii_z:\n",
    "            char = chr(char_num)\n",
    "            print(char, end=\" \")\n",
    "        \n",
    "    count += 6\n",
    "    print()"
   ]
  },
  {
   "cell_type": "markdown",
   "metadata": {},
   "source": [
    "## Exercici 10\n",
    "\n",
    "Fes un programa que dibuixi la taula alternada següent:\n",
    "```text\n",
    "A 1 B 2 C 3 D 4\n",
    "E 5 F 6 G 7 H 8\n",
    "I 9 J 0 K 1 L 2\n",
    "M 3 N 4 O 5 P 6\n",
    "```\n",
    "El valor ASCII de la lletra A és 65, el de la P és 80.\n",
    "El valor ASCII del número 1 és 49, el del 9 és 57."
   ]
  },
  {
   "cell_type": "code",
   "execution_count": 45,
   "metadata": {},
   "outputs": [
    {
     "name": "stdout",
     "output_type": "stream",
     "text": [
      "A 1 B 2 C 3 D 4 \n",
      "E 5 F 6 G 7 H 8 \n",
      "I 9 J 0 K 1 L 2 \n",
      "M 3 N 4 O 5 P 6 \n"
     ]
    }
   ],
   "source": [
    "# Fes aquí el codi de l'exericici 10\n",
    "ascii_a = 65\n",
    "count = 0\n",
    "\n",
    "for row in range(0, 4):\n",
    "    for column in range(0, 4):\n",
    "        char = chr(ascii_a + count)\n",
    "        count += 1\n",
    "        number = count % 10\n",
    "        print(char, end=\" \")\n",
    "        print(number, end=\" \")\n",
    "\n",
    "    print()"
   ]
  }
 ],
 "metadata": {
  "kernelspec": {
   "display_name": "Python 3",
   "language": "python",
   "name": "python3"
  },
  "language_info": {
   "codemirror_mode": {
    "name": "ipython",
    "version": 3
   },
   "file_extension": ".py",
   "mimetype": "text/x-python",
   "name": "python",
   "nbconvert_exporter": "python",
   "pygments_lexer": "ipython3",
   "version": "3.12.6"
  },
  "orig_nbformat": 4
 },
 "nbformat": 4,
 "nbformat_minor": 2
}
