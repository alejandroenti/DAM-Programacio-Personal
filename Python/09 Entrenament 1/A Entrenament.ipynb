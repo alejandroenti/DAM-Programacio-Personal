{
 "cells": [
  {
   "cell_type": "markdown",
   "metadata": {},
   "source": [
    "<div style=\"display: flex; width: 100%;\">\n",
    "    <div style=\"flex: 1; padding: 0px;\">\n",
    "        <p>© Albert Palacios Jiménez, 2023</p>\n",
    "    </div>\n",
    "    <div style=\"flex: 1; padding: 0px; text-align: right;\">\n",
    "        <img src=\"../assets/ieti.png\" height=\"32\" alt=\"Logo de IETI\" style=\"max-height: 32px;\">\n",
    "    </div>\n",
    "</div>\n",
    "<hr/>"
   ]
  },
  {
   "cell_type": "markdown",
   "metadata": {},
   "source": [
    "# Entrenament 1\n",
    "\n",
    "Anem a fer alguns exercicis, per anar agafant pràctica."
   ]
  },
  {
   "cell_type": "markdown",
   "metadata": {},
   "source": [
    "## Exercici 0\n",
    "\n",
    "Fes una funció (escriu_imparells) que tingui com a paràmetre un número enter, i escrigui tots els valors imparells entre 0 i el número escrit."
   ]
  },
  {
   "cell_type": "code",
   "execution_count": 5,
   "metadata": {},
   "outputs": [
    {
     "name": "stdout",
     "output_type": "stream",
     "text": [
      "El números enters entre 0 i 34 són: 0 1 3 5 7 9 11 13 15 17 19 21 23 25 27 29 31 33 "
     ]
    }
   ],
   "source": [
    "# Fes aquí el codi de l'exericici 0\n",
    "def escriu_imparells(num):\n",
    "    for i in range(num + 1):\n",
    "        if i == 0 or i % 2 != 0:\n",
    "            print(f\"{i}\", end=\" \")\n",
    "\n",
    "num_user = int(input(\"Escriu un número: \"))\n",
    "\n",
    "print(f\"El números enters entre 0 i {num_user} són:\", end=\" \")\n",
    "escriu_imparells(num_user)"
   ]
  },
  {
   "cell_type": "markdown",
   "metadata": {},
   "source": [
    "## Exercici 1\n",
    "\n",
    "Fes un programa que demani a l'usuari el seu nom, i fent ús d'un bucle 'for' escrigui cada lletra en una línia diferent perquè quedi en format vertical.\n",
    "\n",
    "Exemple:\n",
    "```python\n",
    "Escriu el teu nom: Tom\n",
    "T\n",
    "o\n",
    "m\n",
    "```\n",
    "\n",
    "**Nota**: Per obtenir un caràcter d'una cadena de text, pots fer servir [X], on X és la posició que vols obtenir."
   ]
  },
  {
   "cell_type": "code",
   "execution_count": null,
   "metadata": {},
   "outputs": [],
   "source": [
    "# Exemple d'obtenir un caràcter d'un string\n",
    "nom=\"Albert\"\n",
    "print(nom[0]) # Escriu A\n",
    "print(nom[2]) # Escriu b\n",
    "print(nom[4]) # Escriu r"
   ]
  },
  {
   "cell_type": "code",
   "execution_count": 6,
   "metadata": {},
   "outputs": [
    {
     "name": "stdout",
     "output_type": "stream",
     "text": [
      "A\n",
      "l\n",
      "e\n",
      "j\n",
      "a\n",
      "n\n",
      "d\n",
      "r\n",
      "o\n"
     ]
    }
   ],
   "source": [
    "# Fes aquí el codi de l'exercici 1\n",
    "user_name = input(\"Introdueix el teu nom: \")\n",
    "\n",
    "for letter in user_name:\n",
    "    print(letter)"
   ]
  },
  {
   "cell_type": "markdown",
   "metadata": {},
   "source": [
    "## Exercici 2\n",
    "\n",
    "Fes un programa que demani a l'usuari que escrigui una paraula.\n",
    "\n",
    "Segueixi demanant paraules fins que l'usuari escrigui \"fi\". \n",
    "\n",
    "Finalment, es mostra una cadena de text amb totes les paraules escrites separades per espai"
   ]
  },
  {
   "cell_type": "code",
   "execution_count": 13,
   "metadata": {},
   "outputs": [
    {
     "name": "stdout",
     "output_type": "stream",
     "text": [
      "Les paraules intrduïdes són: caca futi \n"
     ]
    }
   ],
   "source": [
    "# Fes aquí el codi de l'exercici 2\n",
    "stop_demanding_words = False\n",
    "words_string = \"\"\n",
    "word_count = 0\n",
    "\n",
    "while not stop_demanding_words:\n",
    "    user_word = input(\"Introdueix una paraula: \")\n",
    "\n",
    "    if user_word.lower() == \"fi\":\n",
    "        stop_demanding_words = True\n",
    "        continue\n",
    "\n",
    "    words_string = words_string + user_word + \" \"\n",
    "    word_count = word_count + 1\n",
    "\n",
    "if word_count == 0:\n",
    "    print(\"No s'ha introduït cap paraula\")\n",
    "elif word_count == 1:\n",
    "    print(f\"La paraula intrduïda és: {words_string}\")\n",
    "else:\n",
    "    print(f\"Les paraules intrduïdes són: {words_string}\")"
   ]
  },
  {
   "cell_type": "markdown",
   "metadata": {},
   "source": [
    "## Exerici 3\n",
    "\n",
    "Fes un programa que demani a l'usuari una direcció de correu electrònic i validi que:\n",
    "\n",
    "- Conté un símbol @\n",
    "- Conté un punt\n",
    "- El símbol @ no està al principi\n",
    "- El símbol @ no està al final\n",
    "- El punt no està al principi\n",
    "- El punt no està al final\n",
    "- El símbol @ i el punt no estan junts\n",
    "\n",
    "El programa tornarà a demanar el correu electrònic, fins que se n'escrigui un de vàlid.\n"
   ]
  },
  {
   "cell_type": "code",
   "execution_count": 4,
   "metadata": {},
   "outputs": [
    {
     "name": "stdout",
     "output_type": "stream",
     "text": [
      "El correu ha de tenir una '@'\n",
      "El correu a@a.com és vàlid\n"
     ]
    }
   ],
   "source": [
    "# Fes aquí el codi de l'exercici 3\n",
    "valid_email = False\n",
    "\n",
    "while not valid_email:\n",
    "    email_user = input(\"Introdueix el teu correu electrònic: \")\n",
    "\n",
    "    att_position = email_user.find(\"@\")\n",
    "    dot_position = email_user.find(\".\")\n",
    "\n",
    "    if att_position == -1:\n",
    "        print(\"El correu ha de tenir una '@'\")\n",
    "    elif dot_position == -1:\n",
    "        print(\"El correu ha de tenir una '.'\")    \n",
    "    elif att_position == 0:\n",
    "        print(\"El símbol '@' no es pot situar al començament del correu\")\n",
    "    elif att_position == len(email_user) - 1:\n",
    "        print(\"El símbol '@' no es pot situar al final del correu\")\n",
    "    elif dot_position == 0:\n",
    "        print(\"El símbol '.' no es pot situar al començament del correu\")\n",
    "    elif dot_position == len(email_user) - 1:\n",
    "        print(\"El símbol '.' no es pot situar al final del correu\")\n",
    "    elif ((att_position + 1) == dot_position) or ((dot_position + 1) == att_position):\n",
    "        print(\"El símbol '@' i el símbol '.' no es poden situar junts\")\n",
    "    else:\n",
    "        print(f\"El correu {email_user} és vàlid\")\n",
    "        valid_email = True\n"
   ]
  },
  {
   "cell_type": "markdown",
   "metadata": {},
   "source": [
    "## Exerici 4\n",
    "\n",
    "Fes un programa que doni només 3 intents a l'usuari per escriure una contrasenya correcta.\n",
    "\n",
    "Si l'usuari escriu la contrasenya correcta, el programa escriu \"Accés permès\" i s'acaba.\n",
    "\n",
    "Si l'usuari escriu una contrasenya incorrecta, el programa escriu \"Contrasenya incorrecta\" i torna a demanar la contrasenya.\n",
    "\n",
    "La contrasenya correcta és \"1234\"."
   ]
  },
  {
   "cell_type": "code",
   "execution_count": 7,
   "metadata": {},
   "outputs": [
    {
     "name": "stdout",
     "output_type": "stream",
     "text": [
      "Contrasenya incorrecta\n",
      "Contrasenya incorrecta\n",
      "Contrasenya incorrecta\n",
      "Accés denegat\n"
     ]
    }
   ],
   "source": [
    "# Fes aquí el codi de l'exercici 4\n",
    "secret_password = \"1234\"\n",
    "valid_password = False\n",
    "tries_password = 0\n",
    "\n",
    "while not valid_password:\n",
    "    user_password = input(\"Introdueix la contrasenya: \")\n",
    "    tries_password = tries_password + 1\n",
    "\n",
    "    if user_password == secret_password:\n",
    "        valid_password = True\n",
    "        print(\"Accés permès\")\n",
    "    else:\n",
    "        print(\"Contrasenya incorrecta\")\n",
    "        if tries_password == 3:\n",
    "            valid_password = True\n",
    "            print(\"Accés denegat\")"
   ]
  },
  {
   "cell_type": "markdown",
   "metadata": {},
   "source": [
    "## Exerici 5\n",
    "\n",
    "Fes una funció (compta_vendes), que demani a l'usuari el valor en € d'unes quantes vendes. La funció ha de retornar:\n",
    "\n",
    "- El nombre de vendes entrades\n",
    "- La suma total\n",
    "- La mitjana\n",
    "\n",
    "Per deixar d'escriure vendes, l'usuari escriu 'fi'.\n",
    "\n",
    "Al final, el programa ha de mostrar:\n",
    "\n",
    "```\n",
    "S'han apuntat X vendes, amb un total de Y € i una mitjana de Z €.\n",
    "```"
   ]
  },
  {
   "cell_type": "code",
   "execution_count": 28,
   "metadata": {},
   "outputs": [
    {
     "name": "stdout",
     "output_type": "stream",
     "text": [
      "S'ha d'introduir el preu de la entrada o la paraula FI per acabar de comptar les entrades\n",
      "S'han apuntat 3 vendes, amb un total de 21.00€ i una mitjana de 7.00€.\n"
     ]
    }
   ],
   "source": [
    "# Fes aquí el codi de l'exercici 5\n",
    "def compta_vendes():\n",
    "    stop_demanding_tickets = False\n",
    "    num_tickets = 0\n",
    "    sum_total = 0\n",
    "    average = 0\n",
    "\n",
    "    while not stop_demanding_tickets:\n",
    "        prize_ticket = input(\"Introdueix el valor de la entrada en euros i cèntims [FI per acabar]: \")\n",
    "        \n",
    "        if prize_ticket.lower() == \"fi\":\n",
    "            stop_demanding_tickets = True\n",
    "            continue\n",
    "\n",
    "        if prize_ticket.isnumeric():\n",
    "            print(\"S'ha d'introduir el preu de la entrada o la paraula FI per acabar de comptar les entrades\")\n",
    "            continue\n",
    "\n",
    "        sum_total = sum_total + float(prize_ticket)\n",
    "        num_tickets = num_tickets + 1\n",
    "\n",
    "    average = sum_total / num_tickets\n",
    "    print(f\"S'han apuntat {num_tickets} vendes, amb un total de {sum_total:.2f}€ i una mitjana de {average:.2f}€.\")\n",
    "\n",
    "compta_vendes()"
   ]
  },
  {
   "cell_type": "markdown",
   "metadata": {},
   "source": [
    "## Exerici 6\n",
    "\n",
    "Fes una funció (calcula_comisió), que demana a un empleat que escrigui les vendes que ha realitzat.\n",
    "\n",
    "Demanarà vendes fins que l'empleat escrigui 'fi'.\n",
    "\n",
    "Per cada venda, es calcula la comissió següent:\n",
    "\n",
    "* Si la venda és inferior a 1000 €, la comissió és del 5%\n",
    "* Si la venda és igual o superior a 1000 € i inferior a 5000 €, la comissió és del 7%\n",
    "* Si la venda és igual o superior a 5000 €, la comissió és del 10%\n",
    "\n",
    "La funció ha de retornar:\n",
    "\n",
    "* El nombre de vendes entrades\n",
    "* La suma total\n",
    "* La suma sense la comissió\n",
    "* La mitjana\n",
    "* La comissió total\n",
    "\n",
    "Al final, el programa ha de mostrar:\n",
    "```text\n",
    "S'han entrat X vendes, amb un total de Y € i una mitjana de Z €. \n",
    "S'ha aconseguit una comissió de W €.\n",
    "```"
   ]
  },
  {
   "cell_type": "code",
   "execution_count": null,
   "metadata": {},
   "outputs": [],
   "source": [
    "# Fes aquí el codi de l'exercici 6\n",
    "def calcula_comisio():\n",
    "    stop_demanding_comisions = False\n",
    "    num_sales = 0\n",
    "    sum_total = 0\n",
    "    average_sales = 0\n",
    "    sum_without_comisions = 0\n",
    "    total_comisions = 0\n",
    "\n",
    "    while not stop_demanding_comisions:\n",
    "        user_sale = input(\"Introdueix una venta en euros i cèntims [FI per acabar]: \")\n",
    "\n",
    "        if user_sale.lower() == \"fi\":\n",
    "            stop_demanding_comisions = True\n",
    "            continue\n",
    "\n",
    "        if user_sale.isnumeric():\n",
    "            print(\"S'ha d'introduir el preu de la venda o la paraula FI per acabar de comptar les vendes\")\n",
    "            continue\n",
    "\n",
    "        sale = float(user_sale)\n",
    "        comision = 0\n",
    "        \n",
    "        num_sales = num_sales + 1\n",
    "        sum_without_comisions = sum_without_comisions + float(user_sale)\n",
    "        \n",
    "        if sale < 1000:\n",
    "            comision = sale * 0.05\n",
    "        elif sale < 5000:\n",
    "            comision = sale * 0.07\n",
    "        else:\n",
    "            comision = sale * 0.10\n",
    "        \n",
    "        total_comisions = total_comisions + comision\n",
    "        sum_total = sum_total + sale + comision\n",
    "    \n",
    "    average_sales = sum_without_comisions / num_sales\n",
    "\n",
    "    return num_sales, sum_total, sum_without_comisions, average_sales, total_comisions\n",
    "\n",
    "num, total, sum_no_comision, avgr, total_comision = calcula_comisio()\n",
    "print(f\"S'han entrat {num} vendes, amb un total de {sum_no_comision} € i una mitjana de {avgr} €. S'ha aconseguit una comissió de {total_comision} €.\")"
   ]
  },
  {
   "cell_type": "markdown",
   "metadata": {},
   "source": [
    "## Exerici 7\n",
    "\n",
    "**Compta el preu de la frase.**\n",
    "\n",
    "Fes una funció que rep una frase com a paràmetre, i torna el preu de la frase.\n",
    "\n",
    "El preu de la frase és:\n",
    "\n",
    "* 0.05 per cada lletra\n",
    "* 0.10 per cada número\n",
    "* 0.05 per cada 'a', o 'A'\n",
    "* 0.15 per cada 'b', 'f', 'h', 'l', 'p', 't', 'v'\n",
    "* 0.30 per cada 'G', 'J', 'K', 'M', 'N', 'Q', 'Z'\n",
    "\n",
    "Comprova:\n",
    "```text\n",
    "El preu de la frase 'Hello World 123 AaBbZz' és: 2.4\n",
    "El preu de la frase 'En Gabriel ha comprat 3 kg de taronges' és: 2.9\n",
    "El preu de la frase 'Jo tinc 2 germans, un es diu Quim i l\\'altre Zahir' és: 3.69\n",
    "```\n"
   ]
  },
  {
   "cell_type": "code",
   "execution_count": null,
   "metadata": {},
   "outputs": [],
   "source": [
    "# Exemples de trobar una lletra en un string que et poden ser útils\n",
    "nom=\"Albert\"\n",
    "print(nom.find(\"A\"))\n",
    "print('b' in nom) "
   ]
  },
  {
   "cell_type": "code",
   "execution_count": 40,
   "metadata": {},
   "outputs": [
    {
     "name": "stdout",
     "output_type": "stream",
     "text": [
      "El preu de la frase 'En Gabriel ha comprat 3 kg de taronges' és: 3.0\n"
     ]
    }
   ],
   "source": [
    "# Fes aquí el codi de l'exercici 7\n",
    "letter_or_a_price = 0.05\n",
    "num_price = 0.10\n",
    "lower_special_price = 0.15\n",
    "upper_special_price = 0.30\n",
    "\n",
    "a_special_string = \"aA\"\n",
    "lower_special_string = \"bfhlptv\"\n",
    "upper_special_string = \"GJKMNQZ\"\n",
    "\n",
    "phrase_price = 0\n",
    "\n",
    "#user_phrase = input(\"Introdueix una frase: \")\n",
    "user_phrase = \"En Gabriel ha comprat 3 kg de taronges\"\n",
    "\n",
    "for letter in user_phrase:\n",
    "    if letter.isalpha():\n",
    "        phrase_price = phrase_price + letter_or_a_price\n",
    "\n",
    "        if letter in a_special_string:\n",
    "            phrase_price = phrase_price + letter_or_a_price\n",
    "\n",
    "        elif letter in upper_special_string:\n",
    "            phrase_price = phrase_price + upper_special_price\n",
    "        \n",
    "        elif letter in lower_special_string:\n",
    "            phrase_price = phrase_price + lower_special_price    \n",
    "    \n",
    "    elif letter.isdigit():\n",
    "        phrase_price = phrase_price + num_price\n",
    "\n",
    "print(f\"El preu de la frase '{user_phrase}' és: {phrase_price:.1f}\")"
   ]
  },
  {
   "cell_type": "markdown",
   "metadata": {},
   "source": [
    "## Exerici 8\n",
    "\n",
    "Fes una funció que rebi un número llarg com a paràmetre, el transformi a cadena text i retorni dos paràmetres:\n",
    "\n",
    "* El nombre de números parells\n",
    "* El nombre de números senars"
   ]
  },
  {
   "cell_type": "code",
   "execution_count": null,
   "metadata": {},
   "outputs": [],
   "source": [
    "# Exemple de com saber si un número és parell o senar\n",
    "num = 4\n",
    "if (num % 2 == 0):\n",
    "    print(\"El número és parell\")\n",
    "else:\n",
    "    print(\"El número és senar\")\n",
    "\n",
    "# Exemple de com recórrer una cadena de text caràcter a caràcter\n",
    "nom=\"Bob\"\n",
    "for lletra in nom:\n",
    "    print(lletra)"
   ]
  },
  {
   "cell_type": "code",
   "execution_count": 41,
   "metadata": {},
   "outputs": [
    {
     "name": "stdout",
     "output_type": "stream",
     "text": [
      "El número 82365478623 conté 7 números parells i 4 números imparells\n"
     ]
    }
   ],
   "source": [
    "# Fes aquí el codi de l'exercici 8\n",
    "def conta_parells_imparells(num):\n",
    "    num_string = str(num)\n",
    "    pair_count = 0\n",
    "    odd_count = 0\n",
    "\n",
    "    for n in num_string:\n",
    "        if int(n) % 2 == 0:\n",
    "            pair_count = pair_count + 1\n",
    "        else:\n",
    "            odd_count = odd_count + 1\n",
    "\n",
    "    return pair_count, odd_count\n",
    "\n",
    "user_num = int(input(\"Introdueix un número llarg: \"))\n",
    "pair, odd = conta_parells_imparells(user_num)\n",
    "print(f\"El número {user_num} conté {pair} números parells i {odd} números imparells\")"
   ]
  },
  {
   "cell_type": "markdown",
   "metadata": {},
   "source": [
    "## Exerici 9\n",
    "\n",
    "Fes una funció (porcio_taula) que rebi tres paràmetres:\n",
    "\n",
    "* Número\n",
    "* Valor inici\n",
    "* Valor final\n",
    "\n",
    "La funció ha d'escriure la porció de la taula de multiplicar entre 'inici' i 'final'\n",
    "\n",
    "Exemples:\n",
    "\n",
    "```python\n",
    "porcio_taula(2, 4, 7)\n",
    "4 x 2 = 8\n",
    "5 x 2 = 10\n",
    "6 x 2 = 12\n",
    "7 x 2 = 14\n",
    "\n",
    "porcio_taula(5, 3, 5)\n",
    "3 x 5 = 15\n",
    "4 x 5 = 20\n",
    "5 x 5 = 25\n",
    "```"
   ]
  },
  {
   "cell_type": "code",
   "execution_count": 52,
   "metadata": {},
   "outputs": [
    {
     "name": "stdout",
     "output_type": "stream",
     "text": [
      " 2 x 4 = 8\n",
      " 3 x 4 = 12\n",
      " 4 x 4 = 16\n",
      " 5 x 4 = 20\n",
      " 6 x 4 = 24\n",
      " 7 x 4 = 28\n",
      " 8 x 4 = 32\n",
      " 9 x 4 = 36\n",
      "10 x 4 = 40\n"
     ]
    }
   ],
   "source": [
    "# Fes aquí el codi de l'exercici 9\n",
    "def porcio_taula(num, start, end):\n",
    "    for i in range(start, end + 1):\n",
    "        print(f\"{str(i).rjust(2)} x {num} = {i * num}\")\n",
    "\n",
    "num_mult = int(input(\"Introdueix un número per calcular la taula de multiplicar: \"))\n",
    "min_mult = int(input(\"Introdueix el mínim per a calcular la taula: \"))\n",
    "max_mult = int(input(\"Introdueix el màxim per a calcular la taula: \"))\n",
    "\n",
    "if min_mult > max_mult:\n",
    "    tmp = min_mult\n",
    "    min_mult = max_mult\n",
    "    max_mult = tmp\n",
    "\n",
    "porcio_taula(num_mult, min_mult, max_mult)"
   ]
  },
  {
   "cell_type": "markdown",
   "metadata": {},
   "source": [
    "## Exerici 10\n",
    "\n",
    "Fes una funció (taules_sumar) que rebi dos paràmetres:\n",
    "\n",
    "* Taula inicial\n",
    "* Taula final\n",
    "\n",
    "I escrigui per pantalla les taules de sumar des de la taula inicial fins a la taula final, per valors entre 0 i 4.\n",
    "\n",
    "Ha de separar les taules amb cinc guions \"-----\".\n",
    "\n",
    "Exemples:\n",
    "\n",
    "```python\n",
    "taules_sumar(3, 4)\n",
    "3 + 0 = 3\n",
    "3 + 1 = 4\n",
    "3 + 2 = 5\n",
    "3 + 3 = 6\n",
    "3 + 4 = 7\n",
    "-----\n",
    "4 + 0 = 4\n",
    "4 + 1 = 5\n",
    "4 + 2 = 6\n",
    "4 + 3 = 7\n",
    "4 + 4 = 8\n",
    "-----\n",
    "\n",
    "taules_sumar(5, 7)\n",
    "5 + 0 = 5\n",
    "5 + 1 = 6\n",
    "5 + 2 = 7\n",
    "5 + 3 = 8\n",
    "5 + 4 = 9\n",
    "-----\n",
    "6 + 0 = 6\n",
    "6 + 1 = 7\n",
    "6 + 2 = 8\n",
    "6 + 3 = 9\n",
    "6 + 4 = 10\n",
    "-----\n",
    "7 + 0 = 7\n",
    "7 + 1 = 8\n",
    "7 + 2 = 9\n",
    "7 + 3 = 10\n",
    "7 + 4 = 11\n",
    "-----\n",
    "```"
   ]
  },
  {
   "cell_type": "code",
   "execution_count": 55,
   "metadata": {},
   "outputs": [
    {
     "name": "stdout",
     "output_type": "stream",
     "text": [
      " 3 + 0 = 3\n",
      " 3 + 1 = 4\n",
      " 3 + 2 = 5\n",
      " 3 + 3 = 6\n",
      " 3 + 4 = 7\n",
      "-----\n",
      " 4 + 0 = 4\n",
      " 4 + 1 = 5\n",
      " 4 + 2 = 6\n",
      " 4 + 3 = 7\n",
      " 4 + 4 = 8\n",
      "-----\n"
     ]
    }
   ],
   "source": [
    "# Fes aquí el codi de l'exercici 10\n",
    "def taules_sumar(start, end):\n",
    "    for i in range(start, end + 1):\n",
    "        for j in range(0, 5):\n",
    "            print(f\"{str(i).rjust(2)} + {j} = {i + j}\")\n",
    "        print(\"\".ljust(5, \"-\"))\n",
    "\n",
    "start = int(input(\"Introdueix el número per començar les taules de sumar: \"))\n",
    "end = int(input(\"Introdueix el número per finalitzar les taules de sumar: \"))\n",
    "\n",
    "if start > end:\n",
    "    tmp = start\n",
    "    start = end\n",
    "    end = tmp\n",
    "\n",
    "taules_sumar(start, end)"
   ]
  },
  {
   "cell_type": "markdown",
   "metadata": {},
   "source": [
    "## Exerici 11\n",
    "\n",
    "Fes un programa que a partir de dos bucles anidats (un bucle dins d'un altre), mostri la següent taula:\n",
    "\n",
    "```text\n",
    "x,y\n",
    "0,0 1,0 2,0 3,0 4,0 5,0\n",
    "0,1 1,1 2,1 3,1 4,1 5,1\n",
    "0,2 1,2 2,2 3,2 4,2 5,2\n",
    "0,3 1,3 2,3 3,3 4,3 5,3\n",
    "0,4 1,4 2,4 3,4 4,4 5,4\n",
    "0,5 1,5 2,5 3,5 4,5 5,5\n",
    "\n",
    "```"
   ]
  },
  {
   "cell_type": "code",
   "execution_count": 57,
   "metadata": {},
   "outputs": [
    {
     "name": "stdout",
     "output_type": "stream",
     "text": [
      "x,y\n",
      "0,0 1,0 2,0 3,0 4,0 5,0 \n",
      "0,1 1,1 2,1 3,1 4,1 5,1 \n",
      "0,2 1,2 2,2 3,2 4,2 5,2 \n",
      "0,3 1,3 2,3 3,3 4,3 5,3 \n",
      "0,4 1,4 2,4 3,4 4,4 5,4 \n",
      "0,5 1,5 2,5 3,5 4,5 5,5 \n"
     ]
    }
   ],
   "source": [
    "# Fes aquí el codi de l'exercici 11\n",
    "print(\"x,y\")\n",
    "for row in range(0, 6):\n",
    "    for column in range(0,6):\n",
    "        print(f\"{column},{row}\", end=\" \")\n",
    "    print()"
   ]
  },
  {
   "cell_type": "markdown",
   "metadata": {},
   "source": [
    "## Exercici 12\n",
    "\n",
    "Fes un programa que mostri el següent menú:\n",
    "```text\n",
    "    CALCULADORA\n",
    "    Menú Principal\n",
    "\n",
    "    1 - Sumar\n",
    "    2 - Restar\n",
    "    3 - Multiplicar\n",
    "    4 - Dividir\n",
    "    0 - Sortir\n",
    "    Opció: \n",
    "```\n",
    "L'usuari escriu el número d'opció, si s'escull una opció no coneguda \n",
    "es mostra el menú de nou amb el text \"Opció incorrecta\" a sobre de la línia \"Opció: \"\n",
    "\n",
    "Un cop escollida una\n",
    "\n",
    "* Si és la 0 s'acaba el programa.\n",
    "* Si és una altra, demana dos números i mostra el resultat de l'operació."
   ]
  },
  {
   "cell_type": "code",
   "execution_count": 62,
   "metadata": {},
   "outputs": [
    {
     "name": "stdout",
     "output_type": "stream",
     "text": [
      "\n",
      "CALCULADORA\n",
      "Menú principal\n",
      "\n",
      "1 - Sumar\n",
      "2 - Restar\n",
      "3 - Multiplicar\n",
      "4 - Divisió\n",
      "0 - Sortir\n",
      "\n",
      "        \n",
      "\n",
      "CALCULADORA\n",
      "Menú principal\n",
      "\n",
      "1 - Sumar\n",
      "2 - Restar\n",
      "3 - Multiplicar\n",
      "4 - Divisió\n",
      "0 - Sortir\n",
      "Opció incorrecta\n",
      "        \n"
     ]
    }
   ],
   "source": [
    "# Fes aquí el codi de l'exercici 12\n",
    "def addtion(num1, num2):\n",
    "    print(f\"{num1} + {num2} = {num1 + num2}\")\n",
    "\n",
    "def substraction(num1, num2):\n",
    "    print(f\"{num1} - {num2} = {num1 - num2}\")\n",
    "\n",
    "def multiplication(num1, num2):\n",
    "    print(f\"{num1} x {num2} = {num1 * num2}\")\n",
    "\n",
    "def division(num1, num2):\n",
    "    print(f\"{num1} / {num2} = {(num1 / num2):.2f}\")\n",
    "\n",
    "def print_menu(incorrect_option):\n",
    "    incorrect_string = \"\"\n",
    "\n",
    "    if incorrect_option:\n",
    "        incorrect_string = \"Opció incorrecta\"\n",
    "\n",
    "    print(\n",
    "        f\"\"\"\n",
    "{\"calculadora\".upper()}\n",
    "{\"menú principal\".capitalize()}\n",
    "\n",
    "1 - Sumar\n",
    "2 - Restar\n",
    "3 - Multiplicar\n",
    "4 - Divisió\n",
    "0 - Sortir\n",
    "{incorrect_string}\n",
    "        \"\"\")\n",
    "    \n",
    "exit = False\n",
    "incorrect_option = False\n",
    "\n",
    "while not exit:\n",
    "    print_menu(incorrect_option)\n",
    "    incorrect_option = False\n",
    "    user_option = int(input(\"Opció: \"))\n",
    "    \n",
    "    if user_option < 0 or user_option > 4:\n",
    "        incorrect_option = True\n",
    "        continue\n",
    "\n",
    "    if user_option == 0:\n",
    "        exit = True\n",
    "        continue\n",
    "    \n",
    "\n",
    "    num1 = float(input(\"Introdueix el primer número: \"))\n",
    "    num2 = float(input(\"Introdueix el segon número: \"))\n",
    "\n",
    "    if user_option == 1:\n",
    "        addtion(num1, num2)\n",
    "    elif user_option == 2:\n",
    "        substraction(num1, num2)\n",
    "    elif user_option == 3:\n",
    "        multiplication(num1, num2)\n",
    "    elif user_option == 4:\n",
    "        division(num1, num2)        "
   ]
  },
  {
   "cell_type": "markdown",
   "metadata": {},
   "source": [
    "## Exercici 13\n",
    "\n",
    "Fes un programa que mostri i compti els múltiples de 7 entre 1 i 1000\n",
    "\n",
    "Nota, els múltiples de 7 dónen 0 com a residu quan es divideixen entre 7.\n",
    "\n",
    "Per exemple:\n",
    "```text\n",
    "7 / 7 = 1 i residu 0, és múltiple de 7\n",
    "14 / 7 = 2 i residu 0, és múltiple de 7\n",
    "15 / 7 = 2 i residu 1, no és múltiple de 7\n",
    "21 / 7 = 3 i residu 0, és múltiple de 7\n",
    "27 / 7 = 3 i residu 6, no és múltiple de 7\n",
    "```\n",
    "Per exemple, per 149:\n",
    "22: 0, 7, 14, 21, 28, 35, 42, 49, 56, 63, 70, 77, 84, 91, 98, 105, 112, 119, 126, 133, 140, 147, "
   ]
  },
  {
   "cell_type": "code",
   "execution_count": 63,
   "metadata": {},
   "outputs": [
    {
     "name": "stdout",
     "output_type": "stream",
     "text": [
      "Els múltiples de 7 són: 7 14 21 28 35 42 49 56 63 70 77 84 91 98 105 112 119 126 133 140 147 154 161 168 175 182 189 196 203 210 217 224 231 238 245 252 259 266 273 280 287 294 301 308 315 322 329 336 343 350 357 364 371 378 385 392 399 406 413 420 427 434 441 448 455 462 469 476 483 490 497 504 511 518 525 532 539 546 553 560 567 574 581 588 595 602 609 616 623 630 637 644 651 658 665 672 679 686 693 700 707 714 721 728 735 742 749 756 763 770 777 784 791 798 805 812 819 826 833 840 847 854 861 868 875 882 889 896 903 910 917 924 931 938 945 952 959 966 973 980 987 994 "
     ]
    }
   ],
   "source": [
    "# Fes aquí el codi de l'exercici 13\n",
    "print(\"Els múltiples de 7 són:\", end=\" \")\n",
    "\n",
    "for num in range(1, 1001):\n",
    "    if num % 7 == 0:\n",
    "        print(num, end=\" \")"
   ]
  },
  {
   "cell_type": "markdown",
   "metadata": {},
   "source": [
    "## Exercici 14\n",
    "\n",
    "**Programa el següent joc**\n",
    "\n",
    "La Clara i el Jordi estan competint en una cursa especial. \n",
    "\n",
    "Cada un comença a la posició 0 en una línia numèrica. La meta està a la posició 10.\n",
    "\n",
    "El joc funciona de la següent manera:\n",
    "\n",
    "Cada torn, un jugador tira un dau virtual:\n",
    "\n",
    "* Si surt 1 o 2, avança un pas, dos o tres\n",
    "* Si surt 3 o 4, es queda on està.\n",
    "* Si surt 5 o 6, retrocedeix un pas.\n",
    "\n",
    "El joc continua fins que un dels dos jugadors arriba a la meta.\n",
    "\n",
    "La sortida ha de ser d'aquest estil:\n",
    "```text\n",
    "La Clara ha tret un 1 i avança a la posició 1\n",
    "El Jordi ha tret un 5 i retrocedeix a la posició -1\n",
    "La Clara ha tret un 3 i es queda a la posició 1\n",
    "...\n",
    "La Clara ha arribat a la meta i guanya la cursa!"
   ]
  },
  {
   "cell_type": "code",
   "execution_count": 65,
   "metadata": {},
   "outputs": [
    {
     "name": "stdout",
     "output_type": "stream",
     "text": [
      "La Clara ha tret un 5 i retrocedeix a la posició -1\n",
      "La Jordi ha tret un 3 i es queda a la posició 0\n",
      "La Clara ha tret un 1 i avança a la posició 1\n",
      "La Jordi ha tret un 1 i avança a la posició 1\n",
      "La Clara ha tret un 3 i es queda a la posició 1\n",
      "La Jordi ha tret un 2 i avança a la posició 3\n",
      "La Clara ha tret un 3 i es queda a la posició 1\n",
      "La Jordi ha tret un 3 i es queda a la posició 3\n",
      "La Clara ha tret un 1 i avança a la posició 4\n",
      "La Jordi ha tret un 1 i avança a la posició 4\n",
      "La Clara ha tret un 3 i es queda a la posició 4\n",
      "La Jordi ha tret un 1 i avança a la posició 5\n",
      "La Clara ha tret un 5 i retrocedeix a la posició 3\n",
      "La Jordi ha tret un 4 i es queda a la posició 5\n",
      "La Clara ha tret un 5 i retrocedeix a la posició 2\n",
      "La Jordi ha tret un 6 i retrocedeix a la posició 4\n",
      "La Clara ha tret un 2 i avança a la posició 3\n",
      "La Jordi ha tret un 6 i retrocedeix a la posició 3\n",
      "La Clara ha tret un 5 i retrocedeix a la posició 2\n",
      "La Jordi ha tret un 2 i avança a la posició 4\n",
      "La Clara ha tret un 5 i retrocedeix a la posició 1\n",
      "La Jordi ha tret un 4 i es queda a la posició 4\n",
      "La Clara ha tret un 5 i retrocedeix a la posició 0\n",
      "La Jordi ha tret un 1 i avança a la posició 7\n",
      "La Clara ha tret un 1 i avança a la posició 1\n",
      "La Jordi ha tret un 4 i es queda a la posició 7\n",
      "La Clara ha tret un 1 i avança a la posició 2\n",
      "La Jordi ha tret un 6 i retrocedeix a la posició 6\n",
      "La Clara ha tret un 3 i es queda a la posició 2\n",
      "La Jordi ha tret un 4 i es queda a la posició 6\n",
      "La Clara ha tret un 4 i es queda a la posició 2\n",
      "La Jordi ha tret un 2 i avança a la posició 7\n",
      "La Clara ha tret un 4 i es queda a la posició 2\n",
      "La Jordi ha tret un 5 i retrocedeix a la posició 6\n",
      "La Clara ha tret un 5 i retrocedeix a la posició 1\n",
      "La Jordi ha tret un 2 i avança a la posició 9\n",
      "La Clara ha tret un 2 i avança a la posició 4\n",
      "La Jordi ha tret un 1 i avança a la posició 12\n",
      "La Jordi ha arribat a la meta i ha guanyat la cursa!\n"
     ]
    }
   ],
   "source": [
    "# Fes aquí el codi de l'exercici 14\n",
    "import random\n",
    "\n",
    "def move():\n",
    "    dice = random.randint(1, 6)\n",
    "\n",
    "    if dice == 1 or dice == 2:\n",
    "        return dice, random.randint(1, 3)\n",
    "    if dice == 3 or dice == 4:\n",
    "        return dice, 0\n",
    "    else:\n",
    "        return dice, -1\n",
    "\n",
    "def evaluate_string(dice):\n",
    "    if dice == 1 or dice == 2:\n",
    "        return \"avança\"\n",
    "    if dice == 3 or dice == 4:\n",
    "        return \"es queda\"\n",
    "    else:\n",
    "        return \"retrocedeix\"\n",
    "\n",
    "final_position = 10\n",
    "player_1_position = 0\n",
    "player_1_name = \"Clara\"\n",
    "player_2_position = 0\n",
    "player_2_name = \"Jordi\"\n",
    "isplaying = True\n",
    "\n",
    "while isplaying:\n",
    "    player_1_dice, player_1_move = move()\n",
    "    player1_string = evaluate_string(player_1_dice)\n",
    "    player_1_position = player_1_position + player_1_move\n",
    "    print(f\"La {player_1_name} ha tret un {player_1_dice} i {player1_string} a la posició {player_1_position}\")\n",
    "\n",
    "    if player_1_position >= final_position:\n",
    "        isplaying = False\n",
    "        print(f\"La {player_1_name} ha arribat a la meta i ha guanyat la cursa!\")\n",
    "        continue\n",
    "\n",
    "    player_2_dice, player_2_move = move()\n",
    "    player_2_string = evaluate_string(player_2_dice)\n",
    "    player_2_position = player_2_position + player_2_move\n",
    "    print(f\"La {player_2_name} ha tret un {player_2_dice} i {player_2_string} a la posició {player_2_position}\")\n",
    "\n",
    "    if player_2_position >= final_position:\n",
    "        isplaying = False\n",
    "        print(f\"La {player_2_name} ha arribat a la meta i ha guanyat la cursa!\")\n",
    "        continue"
   ]
  }
 ],
 "metadata": {
  "kernelspec": {
   "display_name": "Python 3",
   "language": "python",
   "name": "python3"
  },
  "language_info": {
   "codemirror_mode": {
    "name": "ipython",
    "version": 3
   },
   "file_extension": ".py",
   "mimetype": "text/x-python",
   "name": "python",
   "nbconvert_exporter": "python",
   "pygments_lexer": "ipython3",
   "version": "3.12.6"
  },
  "orig_nbformat": 4
 },
 "nbformat": 4,
 "nbformat_minor": 2
}
