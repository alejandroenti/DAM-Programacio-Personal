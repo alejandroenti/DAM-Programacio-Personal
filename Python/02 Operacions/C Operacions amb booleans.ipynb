{
 "cells": [
  {
   "cell_type": "markdown",
   "metadata": {},
   "source": [
    "<div style=\"display: flex; width: 100%;\">\n",
    "    <div style=\"flex: 1; padding: 0px;\">\n",
    "        <p>© Albert Palacios Jiménez, 2023</p>\n",
    "    </div>\n",
    "    <div style=\"flex: 1; padding: 0px; text-align: right;\">\n",
    "        <img src=\"./assets/ieti.png\" height=\"32\" alt=\"Logo de IETI\" style=\"max-height: 32px;\">\n",
    "    </div>\n",
    "</div>\n",
    "<hr/>"
   ]
  },
  {
   "cell_type": "markdown",
   "metadata": {},
   "source": [
    "# Operacions amb booleans\n",
    "\n",
    "<center><img src=\"./assets/02c_00.jpeg\" height=\"250\" style=\"max-height: 250px;\" /></center>\n",
    "\n",
    "Les variables booleanes només poden tenir dos valors \"True\" i \"False\"\n",
    "\n",
    "En programació permeten pendre decissions, si volem fer una acció o no fer-la.\n",
    "\n",
    "Al nivell més baix, podem dir que tots els ordinadors bàsicament funcionen amb booleans."
   ]
  },
  {
   "cell_type": "markdown",
   "metadata": {},
   "source": [
    "## Exemples conceptuals\n",
    "\n",
    "* Com decidim si s'ha de mostrar una imatge o no? \n",
    "```text\n",
    "        Amb un valor booleà que ens diu \"True\" (mostrar la imatge) o \"False\" (no mostrar-la)\n",
    "```\n",
    "* Com decidim si cal repetir una operació? \n",
    "```text\n",
    "        Amb un valor booleà que ens diu \"True\" (repetir la operació) o \"False\" (no repetir-la)\n",
    "```\n",
    "I així  amb totes les decisions que prenen les màquines ..."
   ]
  },
  {
   "cell_type": "markdown",
   "metadata": {},
   "source": [
    "## Comparacions\n",
    "\n",
    "Com ja s'ha dit, les variables booleanes només tenen dos valors \"True\"i \"False\"\n",
    "\n",
    "Però també podem fer **comparacions** per obtenir aquests valors, per exemple:\n",
    "\n",
    "3 és més gran que 5 ? No, doncs obtenim un \"False\"\n",
    "\n",
    "7 és igual a 8 ? No, doncs obtenim un \"False\"\n",
    "\n",
    "Els operadors de comparació són:\n",
    "\n",
    "* **==** El valor de l'esquerra és igual al valor de la dreta?\n",
    "\n",
    "* **!=** El valor de l'esquerra és diferent al valor de la dreta?\n",
    "\n",
    "* **<** El valor de l'esquerra és menor que el valor de la dreta?\n",
    "\n",
    "* **>** El valor de l'esquerra és més gran que el valor de la dreta?\n",
    "\n",
    "* **<=** El valor de l'esquerra és menor o igual al valor de la dreta?\n",
    "\n",
    "* **>=** El valor de l'esquerra és més gran o igual al valor de la dreta?"
   ]
  },
  {
   "cell_type": "code",
   "execution_count": 1,
   "metadata": {},
   "outputs": [
    {
     "name": "stdout",
     "output_type": "stream",
     "text": [
      "Són iguals 10 i 5 ? False\n",
      "Són iguals 5 i 5 ? True\n",
      "Són iguals 5 i 5 ? False\n"
     ]
    }
   ],
   "source": [
    "# Exemples de comparació d'igualtat\n",
    "\n",
    "x = 10\n",
    "y = 5\n",
    "z = 5\n",
    "k = \"5\"\n",
    "\n",
    "son_iguals = (x == y)\n",
    "print(f\"Són iguals {x} i {y} ? {son_iguals}\")\n",
    "\n",
    "son_iguals = (y == z)\n",
    "print(f\"Són iguals {y} i {z} ? {son_iguals}\")\n",
    "\n",
    "son_iguals = (y == k)\n",
    "print(f\"Són iguals {y} i {k} ? {son_iguals}\") # K és una cadena de text!"
   ]
  },
  {
   "cell_type": "code",
   "execution_count": 2,
   "metadata": {},
   "outputs": [
    {
     "name": "stdout",
     "output_type": "stream",
     "text": [
      "Són diferents 10 i 5 ? True\n",
      "Són diferents 5 i 5 ? False\n",
      "Són diferents 5 i 5 ? True\n"
     ]
    }
   ],
   "source": [
    "# Exemples de comparació de diferència\n",
    "\n",
    "x = 10\n",
    "y = 5\n",
    "z = 5\n",
    "k = \"5\"\n",
    "\n",
    "son_diferents = (x != y)\n",
    "print(f\"Són diferents {x} i {y} ? {son_diferents}\")\n",
    "\n",
    "son_diferents = (y != z)\n",
    "print(f\"Són diferents {y} i {z} ? {son_diferents}\")\n",
    "\n",
    "son_diferents = (y != k)\n",
    "print(f\"Són diferents {y} i {k} ? {son_diferents}\") # K és una cadena de text!"
   ]
  },
  {
   "cell_type": "code",
   "execution_count": 3,
   "metadata": {},
   "outputs": [
    {
     "name": "stdout",
     "output_type": "stream",
     "text": [
      "És menor 10 que 5 ? False\n",
      "És menor 5 que 10 ? True\n",
      "És menor 5 que 5 ? False\n"
     ]
    }
   ],
   "source": [
    "# Exemples de comparació de menor\n",
    "\n",
    "x = 10\n",
    "y = 5\n",
    "z = 5\n",
    "\n",
    "es_menor = (x < y)\n",
    "print(f\"És menor {x} que {y} ? {es_menor}\")\n",
    "\n",
    "es_menor = (y < x)\n",
    "print(f\"És menor {y} que {x} ? {es_menor}\")\n",
    "\n",
    "es_menor = (y < z)\n",
    "print(f\"És menor {y} que {z} ? {es_menor}\")"
   ]
  },
  {
   "cell_type": "code",
   "execution_count": 4,
   "metadata": {},
   "outputs": [
    {
     "name": "stdout",
     "output_type": "stream",
     "text": [
      "És major 10 que 5 ? True\n",
      "És major 5 que 10 ? False\n",
      "És major 5 que 5 ? False\n"
     ]
    }
   ],
   "source": [
    "# Exemples de comparació de major\n",
    "\n",
    "x = 10\n",
    "y = 5\n",
    "z = 5\n",
    "\n",
    "es_major = (x > y)\n",
    "print(f\"És major {x} que {y} ? {es_major}\")\n",
    "\n",
    "es_major = (y > x)\n",
    "print(f\"És major {y} que {x} ? {es_major}\")\n",
    "\n",
    "es_major = (y > z)\n",
    "print(f\"És major {y} que {z} ? {es_major}\")"
   ]
  },
  {
   "cell_type": "code",
   "execution_count": 5,
   "metadata": {},
   "outputs": [
    {
     "name": "stdout",
     "output_type": "stream",
     "text": [
      "És menor o igual 10 que 5 ? False\n",
      "És menor o igual 5 que 10 ? True\n",
      "És menor o igual 5 que 5 ? True\n"
     ]
    }
   ],
   "source": [
    "# Exemples de comparació de menor o igual\n",
    "\n",
    "x = 10\n",
    "y = 5\n",
    "z = 5\n",
    "\n",
    "es_menor = (x <= y)\n",
    "print(f\"És menor o igual {x} que {y} ? {es_menor}\")\n",
    "\n",
    "es_menor = (y <= x)\n",
    "print(f\"És menor o igual {y} que {x} ? {es_menor}\")\n",
    "\n",
    "es_menor = (y <= z)\n",
    "print(f\"És menor o igual {y} que {z} ? {es_menor}\")"
   ]
  },
  {
   "cell_type": "code",
   "execution_count": 6,
   "metadata": {},
   "outputs": [
    {
     "name": "stdout",
     "output_type": "stream",
     "text": [
      "És major o igual 10 que 5 ? True\n",
      "És major o igual 5 que 10 ? False\n",
      "És major o igual 5 que 5 ? True\n"
     ]
    }
   ],
   "source": [
    "# Exemples de comparació de major o igual\n",
    "\n",
    "x = 10\n",
    "y = 5\n",
    "z = 5\n",
    "\n",
    "es_major = (x >= y)\n",
    "print(f\"És major o igual {x} que {y} ? {es_major}\")\n",
    "\n",
    "es_major = (y >= x)\n",
    "print(f\"És major o igual {y} que {x} ? {es_major}\")\n",
    "\n",
    "es_major = (y >= z)\n",
    "print(f\"És major o igual {y} que {z} ? {es_major}\")"
   ]
  },
  {
   "cell_type": "markdown",
   "metadata": {},
   "source": [
    "## Exercici 0\n",
    "\n",
    "Fes un programa que comprovi les següents igualtats:\n",
    "```text\n",
    "    5 és menor que 10?\n",
    "    5 és menor que 4?\n",
    "    5 és major o igual a 4?\n",
    "    5 és major o igual a 5?\n",
    "    5 és igual a \"5\"?\n",
    "    \"5\" és diferent de 5?\n",
    "```"
   ]
  },
  {
   "cell_type": "code",
   "execution_count": 9,
   "metadata": {},
   "outputs": [
    {
     "name": "stdout",
     "output_type": "stream",
     "text": [
      "5 és menor que 10? True\n",
      "5 és menor que 4? False\n",
      "5 és major o igual a 4? True\n",
      "5 és major o igual a 5? True\n",
      "5 és igual a \"5\"? False\n",
      "\"5\" és diferent de 5? True\n"
     ]
    }
   ],
   "source": [
    "# Fes aquí el programa de l'exercici 0\n",
    "print(f\"5 és menor que 10? {5 < 10}\")\n",
    "print(f\"5 és menor que 4? {5 < 4}\")\n",
    "print(f\"5 és major o igual a 4? {5 >= 4}\")\n",
    "print(f\"5 és major o igual a 5? {5 >= 5}\")\n",
    "print(f\"5 és igual a \\\"5\\\"? {5 == \"5\"}\")\n",
    "print(f\"\\\"5\\\" és diferent de 5? {\"5\" != 5}\")"
   ]
  },
  {
   "cell_type": "markdown",
   "metadata": {},
   "source": [
    "## Operadors lògics\n",
    "\n",
    "A part de comparar números, podem fer altres operacions que ens dónen valors tipus \"True\" o \"False\"\n",
    "\n",
    "Hi ha tres operadors lògics imprescindibles:\n",
    "\n",
    "* **and**: Significa \"i\", és a dir: la condició de l'esquerra **i** la condició de la dreta es compleixen?\n",
    "\n",
    "    <span style=\"color:green\">Totes les condicions separades per 'and' s'ha de complir perquè el resultat sigui True</span>\n",
    "\n",
    "* **or**: Significa \"o\", és a dir: la condició de l'esquerra **o** la condició de la dreta es compleixen?\n",
    "\n",
    "    <span style=\"color:green\">Amb 'or' només cal que una de les condicions separades per 'or' es compleixi perquè el resultat sigui True</span>\n",
    "\n",
    "* **not**: Significa \"no\", és a dir: no es compleix aquesta condició?"
   ]
  },
  {
   "cell_type": "code",
   "execution_count": 10,
   "metadata": {},
   "outputs": [
    {
     "name": "stdout",
     "output_type": "stream",
     "text": [
      "True and True = True\n",
      "True and False = False\n",
      "False and True = False\n",
      "False and False = False\n",
      "True and True and True = True\n",
      "True and True and False = False\n",
      "True and False and True = False\n",
      "True or True = True\n",
      "True or False = True\n",
      "False or True = True\n",
      "False or False = False\n",
      "True or True or True = True\n",
      "True or True or False = True\n",
      "False or False or True = True\n"
     ]
    }
   ],
   "source": [
    "# Exemples amb True i False\n",
    "\n",
    "print(f\"True and True = {True and True}\")\n",
    "print(f\"True and False = {True and False}\")\n",
    "print(f\"False and True = {False and True}\")\n",
    "print(f\"False and False = {False and False}\")\n",
    "\n",
    "# Amb 'and' s'ha de complir que tots els valors siguin True perquè el resultat sigui True\n",
    "\n",
    "print(f\"True and True and True = {True and True and True}\")\n",
    "print(f\"True and True and False = {True and True and False}\")\n",
    "print(f\"True and False and True = {True and False and True}\")\n",
    "\n",
    "print(f\"True or True = {True or True}\")\n",
    "print(f\"True or False = {True or False}\")\n",
    "print(f\"False or True = {False or True}\")\n",
    "print(f\"False or False = {False or False}\")\n",
    "\n",
    "# Amb 'or' només cal que un dels valors sigui True perquè el resultat sigui True\n",
    "\n",
    "print(f\"True or True or True = {True or True or True}\")\n",
    "print(f\"True or True or False = {True or True or False}\")\n",
    "print(f\"False or False or True = {False or False or True}\")"
   ]
  },
  {
   "cell_type": "code",
   "execution_count": 11,
   "metadata": {},
   "outputs": [
    {
     "name": "stdout",
     "output_type": "stream",
     "text": [
      "És més gran o igual a 18? True, i té carnet? True. \n",
      "      Aleshores pot conduir? True\n",
      "És més gran o igual a 18? True, i té carnet? False. \n",
      "      Aleshores pot conduir? False\n",
      "És més gran o igual a 18? False, i té carnet? True. \n",
      "      Aleshores pot conduir? False\n"
     ]
    }
   ],
   "source": [
    "# Exemples de 'and'\n",
    "\n",
    "edat = 25\n",
    "carnet = True\n",
    "pot_conduir = (edat >= 18) and carnet\n",
    "\n",
    "print(f\"\"\"És més gran o igual a 18? {(edat >= 18)}, i té carnet? {carnet}. \n",
    "      Aleshores pot conduir? {pot_conduir}\"\"\")\n",
    "\n",
    "edat = 18\n",
    "carnet = False\n",
    "pot_conduir = (edat >= 18) and carnet\n",
    "\n",
    "print(f\"\"\"És més gran o igual a 18? {(edat >= 18)}, i té carnet? {carnet}. \n",
    "      Aleshores pot conduir? {pot_conduir}\"\"\")\n",
    "\n",
    "edat = 16\n",
    "carnet = True\n",
    "pot_conduir = (edat >= 18) and carnet\n",
    "\n",
    "print(f\"\"\"És més gran o igual a 18? {(edat >= 18)}, i té carnet? {carnet}. \n",
    "      Aleshores pot conduir? {pot_conduir}\"\"\")"
   ]
  },
  {
   "cell_type": "code",
   "execution_count": 12,
   "metadata": {},
   "outputs": [
    {
     "name": "stdout",
     "output_type": "stream",
     "text": [
      "Té habilitats tècniques? True, o té capital per invertir? True.\n",
      "      Doncs, pot emprendre un negoci? True.\n",
      "Té habilitats tècniques? False, o té capital per invertir? True.\n",
      "      Doncs, pot emprendre un negoci? True.\n",
      "Té habilitats tècniques? True, o té capital per invertir? False.\n",
      "      Doncs, pot emprendre un negoci? True.\n",
      "Té habilitats tècniques? False, o té capital per invertir? False.\n",
      "      Doncs, pot emprendre un negoci? False.\n"
     ]
    }
   ],
   "source": [
    "# Exemples de 'or'\n",
    "\n",
    "tecnica = True\n",
    "inversio = True\n",
    "potemprendre = tecnica or inversio\n",
    "\n",
    "print(f\"\"\"Té habilitats tècniques? {tecnica}, o té capital per invertir? {inversio}.\n",
    "      Doncs, pot emprendre un negoci? {potemprendre}.\"\"\")\n",
    "\n",
    "tecnica = False\n",
    "inversio = True\n",
    "potemprendre = tecnica or inversio\n",
    "\n",
    "print(f\"\"\"Té habilitats tècniques? {tecnica}, o té capital per invertir? {inversio}.\n",
    "      Doncs, pot emprendre un negoci? {potemprendre}.\"\"\")\n",
    "\n",
    "tecnica = True\n",
    "inversio = False\n",
    "potemprendre = tecnica or inversio\n",
    "\n",
    "print(f\"\"\"Té habilitats tècniques? {tecnica}, o té capital per invertir? {inversio}.\n",
    "      Doncs, pot emprendre un negoci? {potemprendre}.\"\"\")\n",
    "\n",
    "tecnica = False\n",
    "inversio = False\n",
    "potemprendre = tecnica or inversio\n",
    "\n",
    "print(f\"\"\"Té habilitats tècniques? {tecnica}, o té capital per invertir? {inversio}.\n",
    "      Doncs, pot emprendre un negoci? {potemprendre}.\"\"\")"
   ]
  },
  {
   "cell_type": "code",
   "execution_count": 13,
   "metadata": {},
   "outputs": [
    {
     "name": "stdout",
     "output_type": "stream",
     "text": [
      "Està plovent? False. Doncs, no està plovent? True.\n",
      "L'edat és 16. És major d'edat? False. No és major d'edat? True.\n"
     ]
    }
   ],
   "source": [
    "# Exemples de 'not'\n",
    "\n",
    "plou = False\n",
    "no_plou = not plou\n",
    "\n",
    "print(f\"\"\"Està plovent? {plou}. Doncs, no està plovent? {no_plou}.\"\"\")\n",
    "\n",
    "edat = 16\n",
    "major_edat = (edat >= 18)\n",
    "no_major_edat = not major_edat\n",
    "\n",
    "print(f\"\"\"L'edat és {edat}. És major d'edat? {major_edat}. No és major d'edat? {no_major_edat}.\"\"\")"
   ]
  },
  {
   "cell_type": "markdown",
   "metadata": {},
   "source": [
    "## Preferència entre 'or' i 'and'\n",
    "\n",
    "Quan hi ha una ambiguitat entre una condició múltiple, que implica 'and' i 'or'. \n",
    "\n",
    "Primer es calcula 'and' i després 'or', és a dir 'and' té preferència.\n",
    "\n",
    "Per exemple:\n",
    "```text\n",
    "        X and B or C: Equival a (X and B) or C\n",
    "        X or B and C: Equival a X or (B and C)\n",
    "```"
   ]
  },
  {
   "cell_type": "code",
   "execution_count": 14,
   "metadata": {},
   "outputs": [
    {
     "name": "stdout",
     "output_type": "stream",
     "text": [
      "True or False and True és True\n",
      "(True or False) and True és True\n",
      "True or (False and True) és True\n"
     ]
    }
   ],
   "source": [
    "# Exemple de preferència entre 'or' i 'and' (1)\n",
    "a = True\n",
    "b = False\n",
    "c = True\n",
    "\n",
    "resultat = a or b and c \n",
    "    # a or (b and c)\n",
    "print(f\"{a} or {b} and {c} és {resultat}\")\n",
    "\n",
    "resultat = (a or b) and c \n",
    "print(f\"({a} or {b}) and {c} és {resultat}\")\n",
    "\n",
    "resultat = a or (b and c)\n",
    "print(f\"{a} or ({b} and {c}) és {resultat}\")"
   ]
  },
  {
   "cell_type": "code",
   "execution_count": null,
   "metadata": {},
   "outputs": [],
   "source": [
    "# Exemple de preferència entre 'or' i 'and' (2)\n",
    "a = True\n",
    "b = False\n",
    "c = True\n",
    "\n",
    "resultat = a and b or c\n",
    "    # (a and b) or c\n",
    "print(f\"{a} or {b} and {c} és {resultat}\")\n",
    "\n",
    "resultat = (a and b) or c\n",
    "print(f\"({a} or {b}) and {c} és {resultat}\")\n",
    "\n",
    "resultat = a and (b or c)\n",
    "print(f\"{a} or ({b} and {c}) és {resultat}\")\n"
   ]
  },
  {
   "cell_type": "markdown",
   "metadata": {},
   "source": [
    "## Textos i booleans\n",
    "\n",
    "Es poden comparar cadenes amb == i !="
   ]
  },
  {
   "cell_type": "code",
   "execution_count": 15,
   "metadata": {},
   "outputs": [
    {
     "name": "stdout",
     "output_type": "stream",
     "text": [
      "Hola == hola : False\n",
      "Hola == Hola : True\n",
      "Hola != hola : True\n",
      "Hola != Hola : False\n"
     ]
    }
   ],
   "source": [
    "# Exemple comparar Strings\n",
    "print(f\"Hola == hola : {'Hola' == 'hola'}\")\n",
    "print(f\"Hola == Hola : {'Hola' == 'Hola'}\")\n",
    "\n",
    "print(f\"Hola != hola : {'Hola' != 'hola'}\")\n",
    "print(f\"Hola != Hola : {'Hola' != 'Hola'}\")"
   ]
  },
  {
   "cell_type": "markdown",
   "metadata": {},
   "source": [
    "## Textos i booleans\n",
    "\n",
    "Hi ha algunes funciones de textos, que ens retornen valors booleans.\n",
    "\n",
    "És útil recordar-les, perquè sovint ens ajuden a simplificar molt el codi.\n",
    "\n",
    "* **isalpha**: Retorna \"True\" si la cadena no és buida i només conté lletres\n",
    "\n",
    "* **isdigit**: Retorna \"True\" si la cadena no és buida i només conté números\n",
    "\n",
    "* **islower**: Retorna \"True\" si tots els caràcters d'una cadena estàn en minúscules\n",
    "\n",
    "* **isupper**: Retorna \"True\" si tots els caràcters d'una cadena estàn en majúscules\n",
    "\n",
    "* **isspace**: Retorna \"True\" si la cadena no és buida i tots els caràctersson espais blancs\n",
    "\n",
    "* **startswith**: Retornen \"True\" si una cadena comença d'una manera concreta\n",
    "\n",
    "* **endswith**: Retorna \"True\" si una cadena acaba d'una manera concreta"
   ]
  },
  {
   "cell_type": "code",
   "execution_count": 16,
   "metadata": {},
   "outputs": [
    {
     "name": "stdout",
     "output_type": "stream",
     "text": [
      "El text 'HolaMón' és alfabètic? True\n",
      "El text 'Hola12' és alfabètic? False\n",
      "El text '1234' és alfabètic? False\n",
      "El text '12.34' és alfabètic? False\n"
     ]
    }
   ],
   "source": [
    "# Exemples de 'isalpha'\n",
    "\n",
    "text = \"HolaMón\"\n",
    "es_alfabetic = text.isalpha()\n",
    "print(f\"El text '{text}' és alfabètic? {es_alfabetic}\")\n",
    "\n",
    "text = \"Hola12\"\n",
    "es_alfabetic = text.isalpha()\n",
    "print(f\"El text '{text}' és alfabètic? {es_alfabetic}\")\n",
    "\n",
    "text = \"1234\"\n",
    "es_alfabetic = text.isalpha()\n",
    "print(f\"El text '{text}' és alfabètic? {es_alfabetic}\")\n",
    "\n",
    "text = \"12.34\"\n",
    "es_alfabetic = text.isalpha()\n",
    "print(f\"El text '{text}' és alfabètic? {es_alfabetic}\") # Atenció!!!"
   ]
  },
  {
   "cell_type": "code",
   "execution_count": 17,
   "metadata": {},
   "outputs": [
    {
     "name": "stdout",
     "output_type": "stream",
     "text": [
      "El text 'HolaMón' són números? False\n",
      "El text 'Hola12' són números? False\n",
      "El text '1234' són números? True\n",
      "El text '12.34' són números? False\n"
     ]
    }
   ],
   "source": [
    "# Exemples de 'isdigit'\n",
    "\n",
    "text = \"HolaMón\"\n",
    "es_digit = text.isdigit()\n",
    "print(f\"El text '{text}' són números? {es_digit}\")\n",
    "\n",
    "text = \"Hola12\"\n",
    "es_digit = text.isdigit()\n",
    "print(f\"El text '{text}' són números? {es_digit}\")\n",
    "\n",
    "text = \"1234\"\n",
    "es_digit = text.isdigit()\n",
    "print(f\"El text '{text}' són números? {es_digit}\")\n",
    "\n",
    "text = \"12.34\"\n",
    "es_digit = text.isdigit()\n",
    "print(f\"El text '{text}' són números? {es_digit}\") # Atenció!!!"
   ]
  },
  {
   "cell_type": "code",
   "execution_count": 18,
   "metadata": {},
   "outputs": [
    {
     "name": "stdout",
     "output_type": "stream",
     "text": [
      "El text 'Hola Món' és tot minúscula? False\n",
      "El text 'hola món' és tot minúscula? True\n",
      "El text 'HOLA MÓN' és tot minúscula? False\n"
     ]
    }
   ],
   "source": [
    "# Exemples de 'islower'\n",
    "\n",
    "text = \"Hola Món\"\n",
    "es_minuscula = text.islower()\n",
    "print(f\"El text '{text}' és tot minúscula? {es_minuscula}\")\n",
    "\n",
    "text = \"hola món\"\n",
    "es_minuscula = text.islower()\n",
    "print(f\"El text '{text}' és tot minúscula? {es_minuscula}\")\n",
    "\n",
    "text = \"HOLA MÓN\"\n",
    "es_minuscula = text.islower()\n",
    "print(f\"El text '{text}' és tot minúscula? {es_minuscula}\")"
   ]
  },
  {
   "cell_type": "code",
   "execution_count": 19,
   "metadata": {},
   "outputs": [
    {
     "name": "stdout",
     "output_type": "stream",
     "text": [
      "El text 'Hola Món' és tot en majúscules? False\n",
      "El text 'hola món' és tot en majúscules? False\n",
      "El text 'HOLA MÓN' és tot en majúscules? True\n"
     ]
    }
   ],
   "source": [
    "# Exemples de 'isupper'\n",
    "\n",
    "text = \"Hola Món\"\n",
    "es_majuscula = text.isupper()\n",
    "print(f\"El text '{text}' és tot en majúscules? {es_majuscula}\")\n",
    "\n",
    "text = \"hola món\"\n",
    "es_majuscula = text.isupper()\n",
    "print(f\"El text '{text}' és tot en majúscules? {es_majuscula}\")\n",
    "\n",
    "text = \"HOLA MÓN\"\n",
    "es_majuscula = text.isupper()\n",
    "print(f\"El text '{text}' és tot en majúscules? {es_majuscula}\")"
   ]
  },
  {
   "cell_type": "code",
   "execution_count": 20,
   "metadata": {},
   "outputs": [
    {
     "name": "stdout",
     "output_type": "stream",
     "text": [
      "El text '' només conté espais? False\n",
      "El text '   ' només conté espais? True\n",
      "El text '  a  ' només conté espais? False\n"
     ]
    }
   ],
   "source": [
    "# Exemples de 'isspace'\n",
    "\n",
    "text = \"\"\n",
    "es_espais = text.isspace()\n",
    "print(f\"El text '{text}' només conté espais? {es_espais}\")\n",
    "\n",
    "text = \"   \"\n",
    "es_espais = text.isspace()\n",
    "print(f\"El text '{text}' només conté espais? {es_espais}\")\n",
    "\n",
    "text = \"  a  \"\n",
    "es_espais = text.isspace()\n",
    "print(f\"El text '{text}' només conté espais? {es_espais}\")"
   ]
  },
  {
   "cell_type": "code",
   "execution_count": 21,
   "metadata": {},
   "outputs": [
    {
     "name": "stdout",
     "output_type": "stream",
     "text": [
      "La frase 'Hola, com estàs?' comença amb 'Hola'? True\n",
      "La frase 'Hola, com estàs?' comença amb 'hola'? False\n",
      "La frase 'Hola, com estàs?' acaba amb el símbol de pregunta? True\n",
      "La frase 'Hola, com estàs?' acaba amb estàs? False\n"
     ]
    }
   ],
   "source": [
    "# Exemples de 'statswith' i 'endswith'\n",
    "\n",
    "frase = \"Hola, com estàs?\"\n",
    "comenca_amb_Hola = frase.startswith(\"Hola\")\n",
    "comenca_amb_hola = frase.startswith(\"hola\")\n",
    "acaba_amb_pregunta = frase.endswith(\"?\")\n",
    "acaba_amb_estas = frase.endswith(\"estàs\")\n",
    "\n",
    "print(f\"La frase '{frase}' comença amb 'Hola'? {comenca_amb_Hola}\")\n",
    "print(f\"La frase '{frase}' comença amb 'hola'? {comenca_amb_hola}\")\n",
    "print(f\"La frase '{frase}' acaba amb el símbol de pregunta? {acaba_amb_pregunta}\")\n",
    "print(f\"La frase '{frase}' acaba amb estàs? {acaba_amb_estas}\")"
   ]
  },
  {
   "cell_type": "markdown",
   "metadata": {},
   "source": [
    "## Exercici 1\n",
    "\n",
    "Fes un programa que demani a l'usuari el seu nom i la seva edat, i comprovi que realment són noms i edats vàlids."
   ]
  },
  {
   "cell_type": "code",
   "execution_count": 40,
   "metadata": {},
   "outputs": [
    {
     "name": "stdout",
     "output_type": "stream",
     "text": [
      "El nom introduit és: True\n",
      "L'edat introduida és: True\n"
     ]
    }
   ],
   "source": [
    "# Fes aquí el programa de l'exercici 1\n",
    "name = input(\"Introdueix el teu nom: \")\n",
    "age = input(\"Introdueix la teva edat: \")\n",
    "\n",
    "valid_name = name.replace(\" \", \"\").isalpha()\n",
    "valid_age = age.isdigit() and int(age) >= 0 and int(age) <= 120\n",
    "\n",
    "print(f\"El nom introduit és: {valid_name}\")\n",
    "print(f\"L'edat introduida és: {valid_age}\")"
   ]
  }
 ],
 "metadata": {
  "kernelspec": {
   "display_name": "Python 3",
   "language": "python",
   "name": "python3"
  },
  "language_info": {
   "codemirror_mode": {
    "name": "ipython",
    "version": 3
   },
   "file_extension": ".py",
   "mimetype": "text/x-python",
   "name": "python",
   "nbconvert_exporter": "python",
   "pygments_lexer": "ipython3",
   "version": "3.12.3"
  },
  "orig_nbformat": 4
 },
 "nbformat": 4,
 "nbformat_minor": 2
}
