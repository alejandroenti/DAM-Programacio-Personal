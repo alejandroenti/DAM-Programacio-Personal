{
 "cells": [
  {
   "cell_type": "markdown",
   "metadata": {},
   "source": [
    "<div style=\"display: flex; width: 100%;\">\n",
    "    <div style=\"flex: 1; padding: 0px;\">\n",
    "        <p>© Albert Palacios Jiménez, 2023</p>\n",
    "    </div>\n",
    "    <div style=\"flex: 1; padding: 0px; text-align: right;\">\n",
    "        <img src=\"./assets/ieti.png\" height=\"32\" alt=\"Logo de IETI\" style=\"max-height: 32px;\">\n",
    "    </div>\n",
    "</div>\n",
    "<hr/>"
   ]
  },
  {
   "cell_type": "markdown",
   "metadata": {},
   "source": [
    "# Operacions amb text\n",
    "\n",
    "<center><img src=\"./assets/02b_00.png\" height=\"200\" style=\"max-height: 200px;\" /></center>\n",
    "\n",
    "Els programes, sovint han de modificar cadenes de text per mostrar o organitzar informació.\n",
    "\n",
    "Hi ha una sèrie d'operacions que ens permeten modificar cadenes de text."
   ]
  },
  {
   "cell_type": "code",
   "execution_count": 1,
   "metadata": {},
   "outputs": [
    {
     "name": "stdout",
     "output_type": "stream",
     "text": [
      "El valor de '2' + '2' és 22\n",
      "El tipus de la variable 'a' és: str\n",
      "El valor de 2 + 2 és 4\n",
      "El tipus de la variable 'b' és: int\n"
     ]
    }
   ],
   "source": [
    "# Exemple introductori de les operacions amb text\n",
    "a = '2' + '2'\n",
    "print(f\"El valor de '2' + '2' és {a}\")\n",
    "print(f\"El tipus de la variable 'a' és: {type(a).__name__}\")\n",
    "\n",
    "b = 2 + 2\n",
    "print(f\"El valor de 2 + 2 és {b}\")\n",
    "print(f\"El tipus de la variable 'b' és: {type(b).__name__}\")"
   ]
  },
  {
   "cell_type": "markdown",
   "metadata": {},
   "source": [
    "# Operacions bàsiques amb cadenes de text\n",
    "\n",
    "Aquestes són les operacions que es fan habitualment per manipular cadenes de text:\n",
    "\n",
    "* **Longitud**: Obtenir la longitud d'una cadena de text\n",
    "\n",
    "* **Concatenació**: Ajuntar dues o més cadenes de text en una sola\n",
    "\n",
    "* **Idexació**: Accedir a caràcters individuals d'una cadena de text\n",
    "\n",
    "* **Subcadena**: Accedir a una part de text d'una cadena més llarga\n",
    "\n",
    "* **Repetició**: Repetir una cadena de text diverses vegades\n",
    "\n",
    "* **Conversió**: Convertir una cadena de text a majúscules (o minúscules)\n",
    "\n",
    "* **Ordenar**: Ordenar les lletres en una cadena de text\n",
    "\n",
    "* **Substitució**: Substituir una part d'una cadena per una altre\n",
    "\n",
    "* **Cerca**: Buscar sub-cadenes de text en un text (retorna -1 si no troba el sub-text)"
   ]
  },
  {
   "cell_type": "markdown",
   "metadata": {},
   "source": [
    "### Important!\n",
    "\n",
    "Quan es compten les posicions d'una cadena de text, es compten a partir de 0. \n",
    "\n",
    "És a dir, mira el següent text quina posició correspon a cada caràcter:\n",
    "```text\n",
    "    Hola, món!\n",
    "    0123456789\n",
    "```"
   ]
  },
  {
   "cell_type": "code",
   "execution_count": 2,
   "metadata": {},
   "outputs": [
    {
     "name": "stdout",
     "output_type": "stream",
     "text": [
      "La longitud de la cadena és: 10\n"
     ]
    }
   ],
   "source": [
    "# Exemple de longitud:\n",
    "cadena = \"Hola, món!\"\n",
    "longitud = len(cadena)\n",
    "print(f\"La longitud de la cadena és: {longitud}\")\n",
    "\n"
   ]
  },
  {
   "cell_type": "code",
   "execution_count": 3,
   "metadata": {},
   "outputs": [
    {
     "name": "stdout",
     "output_type": "stream",
     "text": [
      "Frase concatenada: Hola, Maria!\n",
      "Suma dels textos '2' + '3': '23'\n"
     ]
    }
   ],
   "source": [
    "# Exemple de concatenació (amb +)\n",
    "salutacio = \"Hola\"\n",
    "nom = \"Maria\"\n",
    "frase = salutacio + \", \" + nom + \"!\"\n",
    "print(f\"Frase concatenada: {frase}\")\n",
    "\n",
    "text_2 = \"2\"\n",
    "text_3 = \"3\"\n",
    "suma_text = text_2 + text_3\n",
    "print(f\"Suma dels textos '{text_2}' + '{text_3}': '{suma_text}'\")"
   ]
  },
  {
   "cell_type": "code",
   "execution_count": 5,
   "metadata": {},
   "outputs": [
    {
     "name": "stdout",
     "output_type": "stream",
     "text": [
      "El primer caràcter és: P\n",
      "El tercer caràcter és: t\n",
      "El cinquè caràcter és: o\n"
     ]
    }
   ],
   "source": [
    "# Exemple d'indexació (conta a partir de 0!)\n",
    "cadena = \"Python\"\n",
    "primer_caracter = cadena[0]\n",
    "tercer_caracter = cadena[2]\n",
    "cinque_caracter = cadena[4]\n",
    "print(f\"El primer caràcter és: {primer_caracter}\")\n",
    "print(f\"El tercer caràcter és: {tercer_caracter}\")\n",
    "print(f\"El cinquè caràcter és: {cinque_caracter}\")"
   ]
  },
  {
   "cell_type": "code",
   "execution_count": 6,
   "metadata": {},
   "outputs": [
    {
     "name": "stdout",
     "output_type": "stream",
     "text": [
      "Subcadena: 'thon és'\n"
     ]
    }
   ],
   "source": [
    "#Exemple de subcadena\n",
    "cadena = \"Python és divertit\"\n",
    "subcadena = cadena[2:9]  # Troç de cadena entre \"t\" i \"é\"\n",
    "print(f\"Subcadena: '{subcadena}'\")"
   ]
  },
  {
   "cell_type": "code",
   "execution_count": 7,
   "metadata": {},
   "outputs": [
    {
     "name": "stdout",
     "output_type": "stream",
     "text": [
      "A\n",
      "b\n",
      "r\n"
     ]
    }
   ],
   "source": [
    "# Exemple d'obtenir un caràcter d'una cadena de text\n",
    "nom=\"Albert\"\n",
    "print(nom[0]) # Escriu A\n",
    "print(nom[2]) # Escriu b\n",
    "print(nom[4]) # Escriu r"
   ]
  },
  {
   "cell_type": "code",
   "execution_count": 8,
   "metadata": {},
   "outputs": [
    {
     "name": "stdout",
     "output_type": "stream",
     "text": [
      "Repetició: 'Hola Hola Hola '\n"
     ]
    }
   ],
   "source": [
    "# Exemple de repetició\n",
    "cadena = \"Hola \"\n",
    "repetida = cadena * 3  # Repetim la cadena 3 vegades\n",
    "print(f\"Repetició: '{repetida}'\")"
   ]
  },
  {
   "cell_type": "code",
   "execution_count": 9,
   "metadata": {},
   "outputs": [
    {
     "name": "stdout",
     "output_type": "stream",
     "text": [
      "Majúscules: EXEMPLE\n",
      "Minúscules: exemple\n",
      "Text amb la primera lletra en majúscula: Python\n"
     ]
    }
   ],
   "source": [
    "# Exemple de conversió\n",
    "text = \"Exemple\"\n",
    "majuscules = text.upper()\n",
    "minuscules = text.lower()\n",
    "print(f\"Majúscules: {majuscules}\")\n",
    "print(f\"Minúscules: {minuscules}\")\n",
    "\n",
    "# Exemple de convertir la primera lletra en majúscula\n",
    "text = \"python\"\n",
    "text = text.capitalize()\n",
    "print(f\"Text amb la primera lletra en majúscula: {text}\")"
   ]
  },
  {
   "cell_type": "code",
   "execution_count": 10,
   "metadata": {},
   "outputs": [
    {
     "name": "stdout",
     "output_type": "stream",
     "text": [
      "Ordena els caràcters de 'Hola, adeu': [' ', ',', 'H', 'a', 'a', 'd', 'e', 'l', 'o', 'u']\n",
      "Ordena els caràcters de 'hola, HOLA': [' ', ',', 'A', 'H', 'L', 'O', 'a', 'h', 'l', 'o']\n",
      "Ordena els caràcters de 'hola, hola': [' ', ',', 'a', 'a', 'h', 'h', 'l', 'l', 'o', 'o']\n"
     ]
    }
   ],
   "source": [
    "# Exemple d'ordenació\n",
    "text = \"Hola, adeu\"\n",
    "ordenat = sorted(text)\n",
    "print(f\"Ordena els caràcters de '{text}': {ordenat}\")\n",
    "\n",
    "text = \"hola, HOLA\"\n",
    "ordenat = sorted(text)\n",
    "print(f\"Ordena els caràcters de '{text}': {ordenat}\")\n",
    "\n",
    "text = \"hola, HOLA\".lower()\n",
    "ordenat = sorted(text)\n",
    "print(f\"Ordena els caràcters de '{text}': {ordenat}\")"
   ]
  },
  {
   "cell_type": "code",
   "execution_count": 11,
   "metadata": {},
   "outputs": [
    {
     "name": "stdout",
     "output_type": "stream",
     "text": [
      "Substitució a la frase 'Hola, món!': Hola, Maria!\n",
      "Substitució a la frase 'En Bob s'ha llevat amb bon peu': EnBobshallevatambbonpeu\n"
     ]
    }
   ],
   "source": [
    "# Exemple de substitució\n",
    "text = \"Hola, món!\"\n",
    "nou_text = text.replace(\"món\", \"Maria\")\n",
    "print(f\"Substitució a la frase '{text}': {nou_text}\")\n",
    "\n",
    "text = \"En Bob s'ha llevat amb bon peu\"\n",
    "nou_text = text.replace(\" \", \"\").replace(\"'\", \"\")\n",
    "print(f\"Substitució a la frase '{text}': {nou_text}\")"
   ]
  },
  {
   "cell_type": "code",
   "execution_count": 12,
   "metadata": {},
   "outputs": [
    {
     "name": "stdout",
     "output_type": "stream",
     "text": [
      "Posició de 'món' a la frase 'Hola, món!': 6\n",
      "Posició de 'Maria' a la frase 'Hola, món!': -1\n",
      "La primera posició de 'pantalons' a la frase 'En Bob s'ha posat pantalons nets': 18\n",
      "La segona  posició de 'pantalons' a la frase 'En Bob s'ha posat pantalons nets i ha rentat els pantalons d'ahir.': 49\n",
      "La última  posició de 'pantalons' a la frase 'En Bob s'ha posat pantalons nets i ha rentat els pantalons d'ahir, ha guardat els pantalons nets': 82\n"
     ]
    }
   ],
   "source": [
    "# Exemple de cerca\n",
    "text = \"Hola, món!\"\n",
    "posicio = text.find(\"món\")\n",
    "print(f\"Posició de 'món' a la frase '{text}': {posicio}\")\n",
    "\n",
    "text = \"Hola, món!\"\n",
    "posicio = text.find(\"Maria\")\n",
    "print(f\"Posició de 'Maria' a la frase '{text}': {posicio}\")\n",
    "\n",
    "text = \"En Bob s'ha posat pantalons nets\"\n",
    "posicio = text.find(\"pantalons\")\n",
    "print(f\"La primera posició de 'pantalons' a la frase '{text}': {posicio}\")\n",
    "\n",
    "text = \"En Bob s'ha posat pantalons nets i ha rentat els pantalons d'ahir.\"\n",
    "posicio_primera = text.find(\"pantalons\")\n",
    "posicio_segona = text.find(\"pantalons\", posicio_primera + 1)\n",
    "print(f\"La segona  posició de 'pantalons' a la frase '{text}': {posicio_segona}\")\n",
    "\n",
    "text = \"En Bob s'ha posat pantalons nets i ha rentat els pantalons d'ahir, ha guardat els pantalons nets\"\n",
    "posicio_ultima = text.rfind(\"pantalons\")\n",
    "print(f\"La última  posició de 'pantalons' a la frase '{text}': {posicio_ultima}\")"
   ]
  },
  {
   "cell_type": "markdown",
   "metadata": {},
   "source": [
    "## Exercici 0\n",
    "\n",
    "Fes un programa amb una variable que tingui el següent text: \"Monsters Are Victims Too\"\n",
    "\n",
    "Després manipula aquest text per aconseguir mostrar:\n",
    "* La llargada de la frase\n",
    "* La subcadena 'Are' fent servir [:]\n",
    "* Repeteix la subcadena anterior 5 vegades\n",
    "* La frase amb només la primera M majúscula"
   ]
  },
  {
   "cell_type": "code",
   "execution_count": 18,
   "metadata": {},
   "outputs": [
    {
     "name": "stdout",
     "output_type": "stream",
     "text": [
      "La longitud de la frase és: 24\n",
      "La subcadena 'Are' de la frase: 'Are' i es troba a la posició 9\n",
      "La cadena repetida 5 cops: AreAreAreAreAre\n",
      "La cadena només amb la primera lletra majúscula: Monsters are victims too\n"
     ]
    }
   ],
   "source": [
    "# Fes aquí el codi de l'exercici 0\n",
    "text = \"Monsters Are Victims Too\"\n",
    "\n",
    "length = len(text)\n",
    "character_position = text.find(\"Are\")\n",
    "sub_string = text[character_position:character_position + 3]\n",
    "repetition_string = sub_string * 5\n",
    "capitalize_string = text.capitalize()\n",
    "\n",
    "print(f\"La longitud de la frase és: {length}\")\n",
    "print(f\"La subcadena 'Are' de la frase: '{sub_string}' i es troba a la posició {character_position}\")\n",
    "print(f\"La cadena repetida 5 cops: {repetition_string}\")\n",
    "print(f\"La cadena només amb la primera lletra majúscula: {capitalize_string}\")"
   ]
  },
  {
   "cell_type": "markdown",
   "metadata": {},
   "source": [
    "## Invertir cadenes de text\n",
    "\n",
    "L'operador 'retallar' [:] que hem fet servir per obtenir subcadenes, té altres usos.\n",
    "\n",
    "Un de molt interessant és la capacitat d'invertir cadenes de text amb la notació [::-1]"
   ]
  },
  {
   "cell_type": "code",
   "execution_count": 17,
   "metadata": {},
   "outputs": [
    {
     "name": "stdout",
     "output_type": "stream",
     "text": [
      "Cadena invertida: titrevid sé nohtyP\n"
     ]
    }
   ],
   "source": [
    "# Exemple de com invertir una cadena de text\n",
    "cadena = \"Python és divertit\"\n",
    "cadena_invertida = cadena[::-1]\n",
    "print(\"Cadena invertida:\", cadena_invertida)"
   ]
  },
  {
   "cell_type": "markdown",
   "metadata": {},
   "source": [
    "## Exercici 1\n",
    "\n",
    "Fes un programa amb una variable que tingui el següent text: \"Gotta Lose Something To Get Something\"\n",
    "\n",
    "Després manipula aquest text per aconseguir mostrar:\n",
    "* La llargada de la frase\n",
    "* La subcadena 'Something' en majúscules\n",
    "* Les subcadenes \"Lose\" i \"Get\" repetides dos cops cada una \"LoseLoseGetGet\"\n",
    "* La cadena intercanviant paraules en majúscules i minúscules: \"GOTTA lose SOMETHING to GET something\"\n",
    "* La subcadena invertida, sense espais, de la part: \"Lose Something To\""
   ]
  },
  {
   "cell_type": "code",
   "execution_count": 27,
   "metadata": {},
   "outputs": [
    {
     "name": "stdout",
     "output_type": "stream",
     "text": [
      "La llargada de la frase és: 37\n",
      "La subcadena 'Something' en majúscules: SOMETHING\n",
      "Les cadenes 'Lose' i 'Get' repetides 2 cops: LoseLoseGetGet\n",
      "Cadena intercalada entre majúscules i minúscules: GOTTA lose SOMETHING to GET something\n",
      "La cadena 'Lose Something To' invertida sense espais: oTgnihtemoSesoL\n"
     ]
    }
   ],
   "source": [
    "# Fes aquí el codi de l'exercici 1\n",
    "text = \"Gotta Lose Something To Get Something\"\n",
    "\n",
    "length = len(text)\n",
    "print(f\"La llargada de la frase és: {length}\")\n",
    "\n",
    "sub_string_position = text.find(\"Something\")\n",
    "sub_string_length = len(\"Something\")\n",
    "sub_string = text[sub_string_position:sub_string_position + sub_string_length].upper()\n",
    "print(f\"La subcadena 'Something' en majúscules: {sub_string}\")\n",
    "\n",
    "sub_string_position_1 = text.find(\"Lose\")\n",
    "sub_string_position_2 = text.find(\"Get\")\n",
    "sub_string_length_1 = len(\"Lose\")\n",
    "sub_string_length_2 = len(\"Get\")\n",
    "sub_string_1 = text[sub_string_position_1:sub_string_position_1 + sub_string_length_1]\n",
    "sub_string_2 = text[sub_string_position_2:sub_string_position_2 + sub_string_length_2]\n",
    "print(f\"Les cadenes 'Lose' i 'Get' repetides 2 cops: {sub_string_1 * 2 + sub_string_2 * 2}\")\n",
    "\n",
    "sub_string = text\n",
    "sub_string = sub_string.replace(\"Gotta\", \"GOTTA\")\n",
    "sub_string = sub_string.replace(\"Lose\", \"lose\")\n",
    "sub_string = sub_string.replace(\"Something\", \"something\")\n",
    "sub_string = sub_string.replace(\"To\", \"to\")\n",
    "sub_string = sub_string.replace(\"Get\", \"GET\")\n",
    "sub_string = sub_string.replace(\"something\", \"SOMETHING\", 1)\n",
    "print(f\"Cadena intercalada entre majúscules i minúscules: {sub_string}\")\n",
    "\n",
    "sub_string_position = text.find(\"Lose\")\n",
    "sub_string_length = len(\"Lose Something To\")\n",
    "sub_string = text[sub_string_position:sub_string_position + sub_string_length]\n",
    "print(f\"La cadena 'Lose Something To' invertida sense espais: {sub_string.replace(\" \", \"\")[::-1]}\")\n"
   ]
  },
  {
   "cell_type": "markdown",
   "metadata": {},
   "source": [
    "## Exercici 2\n",
    "\n",
    "Fes un programa amb una variable que tingui el següent text: \"The pain you feel today will be the strength you'll have tomorrow.\"\n",
    "\n",
    "Després manipula aquest text per aconseguir mostrar:\n",
    "* La llargada de la frase\n",
    "* La subcadena \"The strength you'll have tomorrow\"\n",
    "* Subcadenes concatenades per fer una nova frase: \"Today you'll have the strength you'll feel tomorrow.\"\n",
    "* La subcadena invertida, sense espais ni cometes simples, de la part: \"you'll have the\""
   ]
  },
  {
   "cell_type": "code",
   "execution_count": 38,
   "metadata": {},
   "outputs": [
    {
     "name": "stdout",
     "output_type": "stream",
     "text": [
      "La llargada de la frase és: 65\n",
      "La subcadena 'The stringth you'll have tomorrow': The strength you'll have tomorrow\n",
      "La subcadena 'Today you'll have the strength you'll feel tomorrow': Today you'll have the strength you'll feel tomorrow\n",
      "La subadena \"you'll have the\" invertida i sense espais ni cometes: ehtevahlluoy\n"
     ]
    }
   ],
   "source": [
    "# Fes aquí el codi de l'exercici 2\n",
    "text = \"The pain you feel today will be the strength you'll have tomorrow\"\n",
    "\n",
    "length = len(text)\n",
    "print(f\"La llargada de la frase és: {length}\")\n",
    "\n",
    "sub_string_position = text.find(\"the strength\")\n",
    "sub_string = text[sub_string_position:length].capitalize()\n",
    "print(f\"La subcadena 'The stringth you'll have tomorrow': {sub_string}\")\n",
    "\n",
    "sub_string = text[text.find(\"today\"):text.find(\"today\")+len(\"today\")].capitalize() + \" \"\n",
    "sub_string += text[text.find(\"you'll\"):text.find(\"you'll\")+len(\"you'll have\")] + \" \"\n",
    "sub_string += text[text.find(\"the str\"):text.find(\"the str\")+len(\"the strength\")] + \" \"\n",
    "sub_string += text[text.find(\"you'll\"):text.find(\"you'll\")+len(\"you'll\")] + \" \"\n",
    "sub_string += text[text.find(\"feel\"):text.find(\"feel\")+len(\"feel\")] + \" \"\n",
    "sub_string += text[text.find(\"tomorrow\"):text.find(\"tomorrow\")+len(\"tomorrow\")]\n",
    "print(f\"La subcadena 'Today you'll have the strength you'll feel tomorrow': {sub_string}\")\n",
    "\n",
    "sub_string = text[text.find(\"you'll\"):text.find(\"you'll\")+len(\"you'll have\")]\n",
    "sub_string += text[text.find(\"the\"):text.find(\"the\")+len(\"the\")]\n",
    "sub_string = sub_string.replace(\" \", \"\").replace(\"'\", \"\")[::-1]\n",
    "print(f\"La subadena \\\"you'll have the\\\" invertida i sense espais ni cometes: {sub_string}\")\n"
   ]
  },
  {
   "cell_type": "markdown",
   "metadata": {},
   "source": [
    "## Funcions de posicionament\n",
    "\n",
    "Python permet posicionar les cadenes de text que surten per pantalla\n",
    "\n",
    "* **ljust(ample, caracter_emplenat)**: Alinea el text a l'esquerra\n",
    "\n",
    "* **center(ample, caracter_emplenat)**: Centra el text segons l'ample indicat\n",
    "\n",
    "* **rjust(ample, caracter_emplenat)**: Alinea el text a la dreta"
   ]
  },
  {
   "cell_type": "code",
   "execution_count": 44,
   "metadata": {},
   "outputs": [
    {
     "name": "stdout",
     "output_type": "stream",
     "text": [
      "Text a l'esquerra:       |Avui fa fred--------\n",
      "     Text al centre:     |----Avui fa fred----\n",
      "        Text a la dreta: |--------Avui fa fred\n"
     ]
    }
   ],
   "source": [
    "# Exemple d'alineació de text\n",
    "\n",
    "titol_esquerra = \"Text a l'esquerra: \".ljust(25)\n",
    "titol_centrat = \"Text al centre: \".center(25)\n",
    "titol_dreta = \"Text a la dreta: \".rjust(25)\n",
    "\n",
    "text = \"Avui fa fred\"\n",
    "text_esquerra = text.ljust(20, '-')\n",
    "text_centrat = text.center(20, '-')\n",
    "text_dreta = text.rjust(20, '-')\n",
    "\n",
    "print(titol_esquerra + '|' + text_esquerra)\n",
    "print(titol_centrat + '|' + text_centrat)\n",
    "print(titol_dreta + '|' + text_dreta)"
   ]
  },
  {
   "cell_type": "markdown",
   "metadata": {},
   "source": [
    "## Retallat d'espais inicials i finals\n",
    "\n",
    "Quan tenim cadenes de text amb espais al principi o al final, ens pot interessar ometre'ls\n",
    "\n",
    "* **lstrip**: Retorna la cadena de text sense els espais inicials\n",
    "\n",
    "* **rstrip**: Retorna la cadena de text sense els espais finals\n",
    "\n",
    "* **strip** : Retorna la cadena de text sense els espais inicials i finals omesos"
   ]
  },
  {
   "cell_type": "code",
   "execution_count": 40,
   "metadata": {},
   "outputs": [
    {
     "name": "stdout",
     "output_type": "stream",
     "text": [
      "Text retallat a l'esquerra: 'Avui fa fred   '\n",
      "Text retallat a la dreta: '   Avui fa fred'\n",
      "Text retallat: 'Avui fa fred'\n"
     ]
    }
   ],
   "source": [
    "# Exemple de retallat d'espais\n",
    "\n",
    "text = \"   Avui fa fred   \"\n",
    "\n",
    "text_retallat_esquerra = text.lstrip()\n",
    "print(f\"Text retallat a l'esquerra: '{text_retallat_esquerra}'\")\n",
    "\n",
    "text_retallat_dreta = text.rstrip()\n",
    "print(f\"Text retallat a la dreta: '{text_retallat_dreta}'\")\n",
    "\n",
    "text_retallat = text.strip()\n",
    "print(f\"Text retallat: '{text_retallat}'\")"
   ]
  },
  {
   "cell_type": "markdown",
   "metadata": {},
   "source": [
    "## Exercici 3\n",
    "\n",
    "Crea un menú tal que la sortida sigui així:\n",
    "```text\n",
    "        ********Menú Principal********\n",
    "        1.                Veure perfil                 \n",
    "        2.         Canviar contrasenya         \n",
    "        3.                      Sortir\n",
    "```"
   ]
  },
  {
   "cell_type": "code",
   "execution_count": 43,
   "metadata": {},
   "outputs": [
    {
     "name": "stdout",
     "output_type": "stream",
     "text": [
      "********Menú principal*******\n",
      "1.               Veure perfil\n",
      "2.        Canviar contrasenya\n",
      "3.                     Sortir\n"
     ]
    }
   ],
   "source": [
    "# Fes aquí el codi de l'exercici 3\n",
    "print(f\"{\"Menú principal\".center(29, '*')}\")\n",
    "print(f\"1.{\"Veure perfil\".rjust(27)}\")\n",
    "print(f\"2.{\"Canviar contrasenya\".rjust(27)}\")\n",
    "print(f\"3.{\"Sortir\".rjust(27)}\")"
   ]
  }
 ],
 "metadata": {
  "kernelspec": {
   "display_name": "Python 3",
   "language": "python",
   "name": "python3"
  },
  "language_info": {
   "codemirror_mode": {
    "name": "ipython",
    "version": 3
   },
   "file_extension": ".py",
   "mimetype": "text/x-python",
   "name": "python",
   "nbconvert_exporter": "python",
   "pygments_lexer": "ipython3",
   "version": "3.12.3"
  },
  "orig_nbformat": 4
 },
 "nbformat": 4,
 "nbformat_minor": 2
}
