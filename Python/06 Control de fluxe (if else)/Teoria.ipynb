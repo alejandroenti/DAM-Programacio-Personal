{
 "cells": [
  {
   "cell_type": "markdown",
   "metadata": {},
   "source": [
    "<div style=\"display: flex; width: 100%;\">\n",
    "    <div style=\"flex: 1; padding: 0px;\">\n",
    "        <p>© Albert Palacios Jiménez, 2023</p>\n",
    "    </div>\n",
    "    <div style=\"flex: 1; padding: 0px; text-align: right;\">\n",
    "        <img src=\"../assets/ieti.png\" height=\"32\" alt=\"Logo de IETI\" style=\"max-height: 32px;\">\n",
    "    </div>\n",
    "</div>\n",
    "<hr/>"
   ]
  },
  {
   "cell_type": "markdown",
   "metadata": {},
   "source": [
    "# Condicions (aka control de flux)\n",
    "\n",
    "Els programes necessiten pendre decisions, per aquest motiu, els llenguatges de programació tenen instruccions que ho fan possible.\n",
    "\n",
    "<center><img src=\"../assets/05a_00.png\" style=\"width: 300px;\" /></center>"
   ]
  },
  {
   "cell_type": "markdown",
   "metadata": {},
   "source": [
    "## If\n",
    "\n",
    "La instrucció 'if' permet executar un bloc de codi si una condició és certa.\n",
    "\n",
    "La sintaxi és:\n",
    "```python\n",
    "    if condició:\n",
    "        bloc de codi\n",
    "```\n",
    "Si la condició és certa, s'executa el bloc de codi. Si la condició és falsa, no s'executa el bloc de codi.\n",
    "\n",
    "La condició pot ser qualsevol expressió que retorni un valor booleà (True o False)."
   ]
  },
  {
   "cell_type": "code",
   "execution_count": 1,
   "metadata": {},
   "outputs": [
    {
     "name": "stdout",
     "output_type": "stream",
     "text": [
      "Ets major d'edat.\n",
      "Pots votar.\n",
      "Fi del programa\n"
     ]
    }
   ],
   "source": [
    "# Exemple de 'if', que entra dins el bloc\n",
    "\n",
    "edat = 18\n",
    "\n",
    "if (edat >= 18):\n",
    "    print(\"Ets major d'edat.\")\n",
    "    print(\"Pots votar.\")\n",
    "\n",
    "print(\"Fi del programa\")"
   ]
  },
  {
   "cell_type": "code",
   "execution_count": 2,
   "metadata": {},
   "outputs": [
    {
     "name": "stdout",
     "output_type": "stream",
     "text": [
      "Fi del programa\n"
     ]
    }
   ],
   "source": [
    "# Exemple de 'if', que NO entra dins el bloc\n",
    "\n",
    "edat = 16\n",
    "\n",
    "if (edat >= 18):\n",
    "    print(\"Ets major d'edat.\")\n",
    "    print(\"Pots votar.\")\n",
    "\n",
    "print(\"Fi del programa\")"
   ]
  },
  {
   "cell_type": "markdown",
   "metadata": {},
   "source": [
    "## Exercici 0\n",
    "\n",
    "Fes una funció anomenada 'esParell' que retorni si un número és parell o imparell.\n",
    "\n",
    "La resposta ha de ser el text 'X és parell' si és imparell torna \"X és imparell\"\n",
    "\n",
    "**Nota**: Quan es fa un 'return' ja es surt de la funció, no cal fer un 'else'.\n",
    "\n",
    "Un número és parell quan dividida per 2 no té residu."
   ]
  },
  {
   "cell_type": "code",
   "execution_count": 3,
   "metadata": {},
   "outputs": [
    {
     "name": "stdout",
     "output_type": "stream",
     "text": [
      "1 és imparell\n",
      "2 és parell\n",
      "10 és parell\n",
      "11 és imparell\n",
      "25 és imparell\n",
      "26 és parell\n"
     ]
    }
   ],
   "source": [
    "# Completa aquest codi per fer l'exercici 0\n",
    "\n",
    "# Defineix aquí la funció 'esParell'\n",
    "def esParell(num):\n",
    "    if num % 2 == 0:\n",
    "        return f\"{num} és parell\"\n",
    "\n",
    "    return f\"{num} és imparell\"\n",
    "\n",
    "print(esParell(1))\n",
    "print(esParell(2))\n",
    "print(esParell(10))\n",
    "print(esParell(11))\n",
    "print(esParell(25))\n",
    "print(esParell(26))"
   ]
  },
  {
   "cell_type": "markdown",
   "metadata": {},
   "source": [
    "## Exercici 1\n",
    "\n",
    "Fes una funció 'calculaOperacio' que a partir de dos números i una operació (suma, resta, multiplicació i divisió), retorna el resultat.\n",
    "\n",
    "Per exemple: \n",
    "\n",
    "calculaOperacio(2, 3, \"suma\") ha de retornar 5\n",
    "\n",
    "calculaOperacio(3, 4, \"multiplicació\") ha de retornar 12"
   ]
  },
  {
   "cell_type": "code",
   "execution_count": 4,
   "metadata": {},
   "outputs": [
    {
     "name": "stdout",
     "output_type": "stream",
     "text": [
      "El resultat de 2+3 és 5\n",
      "El resultat de 1-4 és -3\n",
      "El resultat de 5*6 és 30\n",
      "El resultat de 18/3 és 6.0\n"
     ]
    }
   ],
   "source": [
    "# Completa aquest codi per fer l'exercici 1\n",
    "\n",
    "# Defineix aquí la funció 'calculaOperacio'\n",
    "def calculaOperacio(opr1, opr2, operation):\n",
    "    if operation.lower() == \"suma\":\n",
    "        return opr1 + opr2\n",
    "    \n",
    "    if operation.lower() == \"resta\":\n",
    "        return opr1 - opr2\n",
    "    \n",
    "    if operation.lower() == \"multiplicació\":\n",
    "        return opr1 * opr2\n",
    "    \n",
    "    if operation.lower() == \"divisió\":\n",
    "        return opr1 / opr2\n",
    "    \n",
    "    return f\"La operació '{operation}' no existeix\"\n",
    "\n",
    "print(f'El resultat de 2+3 és {calculaOperacio(2, 3, \"suma\")}')\n",
    "print(f'El resultat de 1-4 és {calculaOperacio(1, 4, \"resta\")}')\n",
    "print(f'El resultat de 5*6 és {calculaOperacio(5, 6, \"multiplicació\")}')\n",
    "print(f'El resultat de 18/3 és {calculaOperacio(18, 3, \"divisió\")}')"
   ]
  },
  {
   "cell_type": "markdown",
   "metadata": {},
   "source": [
    "## If-Else\n",
    "\n",
    "L'estructura 'if-else' permet executar un bloc de codi si una condició és certa \n",
    "i un altre bloc de codi si la condició és falsa.\n",
    "\n",
    "La sintaxi és la següent:\n",
    "```python\n",
    "    if condició:\n",
    "        bloc de codi si és certa\n",
    "    else:\n",
    "        bloc de codi si és falsa\n",
    "```\n",
    "Aleshores:\n",
    "\n",
    "- Si la condició és certa, s'executarà el bloc de codi dins del 'if'. \n",
    "\n",
    "- Si la condició és falsa, s'executarà el bloc de codi dins del 'else'.\n",
    "\n",
    "La condició pot ser qualsevol expressió que retorni un valor booleà (True o False)."
   ]
  },
  {
   "cell_type": "code",
   "execution_count": 5,
   "metadata": {},
   "outputs": [
    {
     "name": "stdout",
     "output_type": "stream",
     "text": [
      "Ets major d'edat, \n",
      "i pots votar.\n",
      "Fi del programa\n"
     ]
    }
   ],
   "source": [
    "# Exemple de 'if', que entra dins el bloc\n",
    "\n",
    "edat = 18\n",
    "\n",
    "if (edat >= 18):\n",
    "    print(\"Ets major d'edat, \")\n",
    "    print(\"i pots votar.\")\n",
    "else:\n",
    "    print(\"Ets menor d'edat, \")\n",
    "    print(\"i NO pots votar.\")\n",
    "\n",
    "print(\"Fi del programa\")"
   ]
  },
  {
   "cell_type": "code",
   "execution_count": 6,
   "metadata": {},
   "outputs": [
    {
     "name": "stdout",
     "output_type": "stream",
     "text": [
      "Ets menor d'edat, \n",
      "i NO pots votar.\n",
      "Fi del programa\n"
     ]
    }
   ],
   "source": [
    "# Exemple de 'if', que entra dins el bloc\n",
    "\n",
    "edat = 16\n",
    "\n",
    "if (edat >= 18):\n",
    "    print(\"Ets major d'edat, \")\n",
    "    print(\"i pots votar.\")\n",
    "else:\n",
    "    print(\"Ets menor d'edat, \")\n",
    "    print(\"i NO pots votar.\")\n",
    "\n",
    "print(\"Fi del programa\")"
   ]
  },
  {
   "cell_type": "markdown",
   "metadata": {},
   "source": [
    "## Exercici 2\n",
    "\n",
    "Demana a l'usuari que escrigui una contrasenya.\n",
    "\n",
    "Crea la funció 'validaContrasenya' que apartir d'un text de contrasenya dirà que és vàlida si:\n",
    "\n",
    "- La contrasenya té almenys 8 caràcters\n",
    "\n",
    "- La contrasenya té almenys 2 lletres majúscules i 2 lletres minúscules\n",
    "\n",
    "La resposta de la funció serà el text:\n",
    "\n",
    "- \"La contrasenya és vàlida\" si és vàlida\n",
    "\n",
    "- \"La contrasenya NO és vàlida\" si no és vàlida\n",
    "\n",
    "Et caldrà una funció 'conta_majuscules' i una funció 'conta_minuscules', per fer aquestes funcions:\n",
    "```python\n",
    "    def conta_majuscules(text):\n",
    "        return len(list(filter(str.isupper, text)))\n",
    "```"
   ]
  },
  {
   "cell_type": "code",
   "execution_count": 16,
   "metadata": {},
   "outputs": [
    {
     "name": "stdout",
     "output_type": "stream",
     "text": [
      "La contrasenya snieLAm11 és vàlida? La contrasenya és vàlida\n"
     ]
    }
   ],
   "source": [
    "# Completa aquest codi per fer l'exercici 2\n",
    "\n",
    "# Defineix aquí la funció 'validaContrasenya'\n",
    "def conta_majuscules(text):\n",
    "    return len(list(filter(str.isupper, text)))\n",
    "\n",
    "def conta_minuscules(text):\n",
    "    return len(list(filter(str.islower, text)))\n",
    "\n",
    "def validaContrasenya(text):\n",
    "    len_pass = len(text)\n",
    "    num_majus = conta_majuscules(text)\n",
    "    num_minus = conta_minuscules(text)\n",
    "\n",
    "    if len_pass >= 8 and num_majus >= 2 and num_minus >= 2:\n",
    "        return \"La contrasenya és vàlida\"\n",
    "    \n",
    "    return \"La contrasenya NO és vàlida\"\n",
    "\n",
    "pwd = input(\"Introdueix la contrasenya: \")\n",
    "valida = validaContrasenya(pwd)\n",
    "print(f'La contrasenya {pwd} és vàlida? {valida}')"
   ]
  },
  {
   "cell_type": "markdown",
   "metadata": {},
   "source": [
    "## if-elif-else\n",
    "\n",
    "A vegades hem de comparar múltiples condicions, Python permet fer-ho amb estructures 'elif':\n",
    "\n",
    "La sintaxi és la següent:\n",
    "```python\n",
    "    if condició:\n",
    "        bloc de codi si és certa\n",
    "    elif segona_condició:\n",
    "        bloc de codi si la segona condició és certa\n",
    "    elif tercera_condició:\n",
    "        bloc de codi si la tercera condició és certa\n",
    "    else:\n",
    "        bloc de codi si cap condició anterior és certa\n",
    "```\n",
    "Es poden posar tants 'elif' com faci falta\n"
   ]
  },
  {
   "cell_type": "code",
   "execution_count": 17,
   "metadata": {},
   "outputs": [
    {
     "name": "stdout",
     "output_type": "stream",
     "text": [
      "Ets major d'edat, però encara ets jove\n"
     ]
    }
   ],
   "source": [
    "# Exemple de 'elif'\n",
    "\n",
    "edat = float(input(\"Quants anys tens? \"))\n",
    "\n",
    "if (edat < 18):\n",
    "    print(\"Ets menor d'edat\")\n",
    "elif (edat == 18):\n",
    "    print(\"Tens 18 anys, ja ets un adult\")\n",
    "elif (edat < 35):\n",
    "    print(\"Ets major d'edat, però encara ets jove\")\n",
    "elif (edat < 50):\n",
    "    print(\"Ja ets adult\")\n",
    "elif (edat < 65):\n",
    "    print(\"Ja començes a ser gran\")\n",
    "else:\n",
    "    print(\"Fa moooolt temps que vas complir els 18\")"
   ]
  },
  {
   "cell_type": "markdown",
   "metadata": {},
   "source": [
    "## Exercici 3\n",
    "\n",
    "Fes un programa que generi un número aleatòri entre 0 i 100, primer escriu \"El número escollit és: X\" on X és el número.\n",
    "\n",
    "Després:\n",
    "\n",
    "- Si el número és menor o igual a 25 escriurà \"El número és petit\"\n",
    "\n",
    "- Si el número està entre 26 o 74 inclòsos, escriurà \"El número és mitjà\"\n",
    "\n",
    "- Si el número és major o igual a 75 escriurà \"El número és gran\""
   ]
  },
  {
   "cell_type": "code",
   "execution_count": 29,
   "metadata": {},
   "outputs": [
    {
     "name": "stdout",
     "output_type": "stream",
     "text": [
      "El número escollit és: 75\n",
      "El número és gran\n"
     ]
    }
   ],
   "source": [
    "# Fes aquí l'exercici 3 \n",
    "import random\n",
    "\n",
    "num = random.randint(0, 100)\n",
    "print(f\"El número escollit és: {num}\")\n",
    "\n",
    "if num <= 25:\n",
    "    print(\"El número és petit\")\n",
    "elif num < 75:\n",
    "    print(\"El número és mitjà\")\n",
    "else:\n",
    "    print(\"El número és gran\")"
   ]
  },
  {
   "cell_type": "markdown",
   "metadata": {},
   "source": [
    "## Exercici 4\n",
    "\n",
    "Fes un programa que demani 3 edats, i aleshores les classifiqui de menor a major. \n",
    "\n",
    "Ha de mostrar el text: \"Les edats ordenades són X, Y, Z\" on X, Y i Z són tres números ordenats de més petit a més gran."
   ]
  },
  {
   "cell_type": "code",
   "execution_count": 37,
   "metadata": {},
   "outputs": [
    {
     "name": "stdout",
     "output_type": "stream",
     "text": [
      "Les edats són 20, 19 i 21\n",
      "Les edats ordenades són 19, 20, 21\n"
     ]
    }
   ],
   "source": [
    "# Fes aquí l'exercici 4\n",
    "edat1 = int(input(\"Primera edat: \"))\n",
    "edat2 = int(input(\"Segona edat: \"))\n",
    "edat3 = int(input(\"Tercera edat: \"))\n",
    "\n",
    "def ordenarDePetitAGran(a,b):\n",
    "    if a > b:\n",
    "        tmp = a\n",
    "        a = b\n",
    "        b = tmp\n",
    "    return a,b\n",
    "\n",
    "print(f\"Les edats són {edat1}, {edat2} i {edat3}\")\n",
    "\n",
    "edat1, edat2 = ordenarDePetitAGran(edat1,edat2)\n",
    "edat2, edat3 = ordenarDePetitAGran(edat2,edat3)\n",
    "edat1, edat2 = ordenarDePetitAGran(edat1,edat2)\n",
    "\n",
    "print(f\"Les edats ordenades són {edat1}, {edat2}, {edat3}\")"
   ]
  },
  {
   "cell_type": "markdown",
   "metadata": {},
   "source": [
    "## Exercici 5\n",
    "\n",
    "Fes un programa que demani una xifra a l'usuari entre 0 i 100.000\n",
    "\n",
    "El programa ha de dir: \"Per un import de X, els impostos que has de pagar són un Y% i el total és Z\"\n",
    "\n",
    "Aleshores:\n",
    "\n",
    "- Si el valor és menor a 10.000 calcularà un 10% del valor. (Y serà 10% i Z el resultat del càlcul)\n",
    "\n",
    "- Si el valor està entre 10.001 i 50.000 calcularà un 20% del valor. (Y serà 20% i Z el resultat del càlcul)\n",
    "\n",
    "- Si el valor és superior a 50.000 calcularà un 30% del valor (Y serà 30% i Z el resultat del càlcul)\n",
    "\n",
    "Recorda que Z ha de tornar el total a pagar, és a dir els impostos més el valor inicial."
   ]
  },
  {
   "cell_type": "code",
   "execution_count": 43,
   "metadata": {},
   "outputs": [
    {
     "name": "stdout",
     "output_type": "stream",
     "text": [
      "Per un import de 12734.0, els impostos que has de pagar són un 20% i el total és 15280.8\n"
     ]
    }
   ],
   "source": [
    "# Fes aquí l'exercici 5\n",
    "incomes = float(input(\"Introdueix les teves ganàncies: \"))\n",
    "taxes = 0\n",
    "total = 0\n",
    "\n",
    "if 0 > incomes or incomes > 100000:\n",
    "    print(\"No podem calcular aquesta quantitat\")\n",
    "else:\n",
    "    if incomes < 10000:\n",
    "        taxes = 0.10\n",
    "    elif incomes < 50000:\n",
    "        taxes = 0.20\n",
    "    else:\n",
    "        taxes = 0.30\n",
    "        \n",
    "    total = incomes + (incomes * taxes)\n",
    "    print(f\"Per un import de {incomes}, els impostos que has de pagar són un {(taxes * 100):.0f}% i el total és {total}\")"
   ]
  },
  {
   "cell_type": "markdown",
   "metadata": {},
   "source": [
    "## Exercici 6\n",
    "\n",
    "Fes un programa que demani un dia de la setmana i digui si s'ha d'anar a l'escola (de dilluns a divendres) o no.\n",
    "\n",
    "No facis servir \"elif\", fes-ho només amb un if-else."
   ]
  },
  {
   "cell_type": "code",
   "execution_count": 46,
   "metadata": {},
   "outputs": [
    {
     "name": "stdout",
     "output_type": "stream",
     "text": [
      "Avui és cap de setmana, descansa!\n"
     ]
    }
   ],
   "source": [
    "# Fes aquí l'exercici 6\n",
    "laborals = [\"dilluns\", \"dimarts\", \"dimecres\", \"dijous\", \"divendres\"]\n",
    "\n",
    "day = input(\"Introdueix el dia de la setmana: \")\n",
    "\n",
    "if day.lower() in laborals:\n",
    "    print(\"Has d'anar a l'escola\")\n",
    "else:\n",
    "    print(\"Avui és cap de setmana, descansa!\")"
   ]
  }
 ],
 "metadata": {
  "kernelspec": {
   "display_name": "Python 3",
   "language": "python",
   "name": "python3"
  },
  "language_info": {
   "codemirror_mode": {
    "name": "ipython",
    "version": 3
   },
   "file_extension": ".py",
   "mimetype": "text/x-python",
   "name": "python",
   "nbconvert_exporter": "python",
   "pygments_lexer": "ipython3",
   "version": "3.12.3"
  },
  "orig_nbformat": 4
 },
 "nbformat": 4,
 "nbformat_minor": 2
}
