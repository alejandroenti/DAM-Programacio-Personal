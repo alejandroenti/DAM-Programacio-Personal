{
 "cells": [
  {
   "cell_type": "markdown",
   "metadata": {},
   "source": [
    "<div style=\"display: flex; width: 100%;\">\n",
    "    <div style=\"flex: 1; padding: 0px;\">\n",
    "        <p>© Albert Palacios Jiménez, 2023</p>\n",
    "    </div>\n",
    "    <div style=\"flex: 1; padding: 0px; text-align: right;\">\n",
    "        <img src=\"../assets/ieti.png\" height=\"32\" alt=\"Logo de IETI\" style=\"max-height: 32px;\">\n",
    "    </div>\n",
    "</div>\n",
    "<hr/>"
   ]
  },
  {
   "cell_type": "markdown",
   "metadata": {},
   "source": [
    "# Bucles 'for'\n",
    "\n",
    "<center><img src=\"../assets/07b_00.jpeg\" height=\"200\" style=\"max-height: 200px;\" /></center>\n",
    "\n",
    "Un bucle 'for' és una estructura que et permet repetir una sèrie d'instruccions un nombre específic de vegades.\n",
    "\n",
    "Pots pensar-hi com a una mena de \"comptador automàtic\" que realitza una tasca en cada pas.\n",
    "\n",
    "La sintaxi del bucle 'for' és:\n",
    "\n",
    "```python\n",
    "    for element in seqüència:\n",
    "        # Codi a executar diverses vegades\n",
    "```\n",
    "\n",
    "On 'element' és una variable que conté el valor de cada element de la seqüència que s'ha d'iterar."
   ]
  },
  {
   "cell_type": "code",
   "execution_count": 8,
   "metadata": {},
   "outputs": [
    {
     "name": "stdout",
     "output_type": "stream",
     "text": [
      "¡Hola!\n",
      " - Comptador: 0\n",
      "¡Hola!\n",
      " - Comptador: 1\n",
      "¡Hola!\n",
      " - Comptador: 2\n",
      "¡Hola!\n",
      " - Comptador: 3\n",
      "¡Hola!\n",
      " - Comptador: 4\n"
     ]
    }
   ],
   "source": [
    "# Exemple, repetir un codi 5 vegades\n",
    "for contador in range(5):\n",
    "    print(\"¡Hola!\")\n",
    "    print(f\" - Comptador: {contador}\")"
   ]
  },
  {
   "cell_type": "code",
   "execution_count": 6,
   "metadata": {},
   "outputs": [
    {
     "name": "stdout",
     "output_type": "stream",
     "text": [
      "2\n",
      "3\n",
      "4\n",
      "5\n"
     ]
    }
   ],
   "source": [
    "# Exemple, escriure els números del 2 al 5\n",
    "for numero in range(2, 6):\n",
    "    print(numero)"
   ]
  },
  {
   "cell_type": "code",
   "execution_count": 7,
   "metadata": {},
   "outputs": [
    {
     "name": "stdout",
     "output_type": "stream",
     "text": [
      "H\n",
      "o\n",
      "l\n",
      "a\n"
     ]
    }
   ],
   "source": [
    "# Exemple, lletres en un text\n",
    "text = \"Hola\"\n",
    "for lletra in text:\n",
    "    print(lletra)"
   ]
  },
  {
   "cell_type": "code",
   "execution_count": 5,
   "metadata": {},
   "outputs": [
    {
     "name": "stdout",
     "output_type": "stream",
     "text": [
      "0\n",
      "3\n",
      "6\n",
      "9\n"
     ]
    }
   ],
   "source": [
    "# Exemple, contar de 3 en 3 (l'últim paràmetre defineix quan suma cada repetició)\n",
    "for i in range(0, 10, 3):\n",
    "    print(i)\n"
   ]
  },
  {
   "cell_type": "code",
   "execution_count": 4,
   "metadata": {},
   "outputs": [
    {
     "name": "stdout",
     "output_type": "stream",
     "text": [
      "5\n",
      "4\n",
      "3\n",
      "2\n",
      "1\n"
     ]
    }
   ],
   "source": [
    "# Exemple, contar enrrera (l'últim paràmetre defineix restar -1 cada repetició)\n",
    "for i in range(5, 0, -1):\n",
    "    print(i)"
   ]
  },
  {
   "cell_type": "code",
   "execution_count": 3,
   "metadata": {},
   "outputs": [
    {
     "name": "stdout",
     "output_type": "stream",
     "text": [
      "\n",
      "*\n",
      "**\n",
      "***\n",
      "****\n"
     ]
    }
   ],
   "source": [
    "# Exemple dibuixar un triangle d'asterics\n",
    "for y in range(0, 5):\n",
    "    txt = \"\"\n",
    "    for x in range(0, y):\n",
    "        txt = txt + \"*\"\n",
    "    print(txt)"
   ]
  },
  {
   "cell_type": "markdown",
   "metadata": {},
   "source": [
    "## Exercici 0\n",
    "\n",
    "Fes un programa que sumi els números dins d'un rang.\n",
    "\n",
    "Primer s'ha de demanar els números del rang.\n",
    "\n",
    "El dos números escrits, s'han d'ordenar de petit a gran.\n",
    "\n",
    "Per exemple:\n",
    "\n",
    "- Entre 2 i 5: 2 + 3 + 4 + 5 = 14\n",
    "\n",
    "- Entre 10 i 15: 10 + 11 + 12 + 13 + 14 + 15 = 75\n",
    "\n",
    "S'ha de retornar el resultat:\n",
    "\n",
    "- La suma entre 2 i 5 és 14 \n",
    "\n",
    "- La suma entre 10 i 15 és 75 "
   ]
  },
  {
   "cell_type": "code",
   "execution_count": 11,
   "metadata": {},
   "outputs": [
    {
     "name": "stdout",
     "output_type": "stream",
     "text": [
      "La suma entre 10 i 15 és 75\n"
     ]
    }
   ],
   "source": [
    "# Fes aquí el codi de l'exercici 0\n",
    "min_num_range = int(input(\"Introdueix el número menor del rang: \"))\n",
    "max_num_range = int(input(\"Introdueix el número major del rang: \"))\n",
    "\n",
    "if min_num_range > max_num_range:\n",
    "    tmp = min_num_range\n",
    "    min_num_range = max_num_range\n",
    "    max_num_range = tmp\n",
    "\n",
    "total_sum = 0\n",
    "\n",
    "for num in range(min_num_range, max_num_range + 1):\n",
    "    total_sum = total_sum + num\n",
    "\n",
    "print(f\"La suma entre {min_num_range} i {max_num_range} és {total_sum}\")"
   ]
  },
  {
   "cell_type": "markdown",
   "metadata": {},
   "source": [
    "## Exercici 1\n",
    "\n",
    "Fes un programa que demani un número i mostri la seva taula de multiplicar de 0 a 10.\n",
    "\n",
    "Per exemple, per 4:\n",
    "```text\n",
    "0 x 4 = 0\n",
    "1 x 4 = 4\n",
    "...\n",
    "10 x 4 = 40\n",
    "``````"
   ]
  },
  {
   "cell_type": "code",
   "execution_count": 20,
   "metadata": {},
   "outputs": [
    {
     "name": "stdout",
     "output_type": "stream",
     "text": [
      "0 x 2 = 0\n",
      "1 x 2 = 2\n",
      "2 x 2 = 4\n",
      "3 x 2 = 6\n",
      "4 x 2 = 8\n",
      "5 x 2 = 10\n",
      "6 x 2 = 12\n",
      "7 x 2 = 14\n",
      "8 x 2 = 16\n",
      "9 x 2 = 18\n",
      "10 x 2 = 20\n"
     ]
    }
   ],
   "source": [
    "# Fes aquí el codi de l'exercici 1\n",
    "user_num = int(input(\"Introdueix un número per a calcular la seva taula de multiplicar fins a 10: \"))\n",
    "\n",
    "for multiplier in range(0, 11):\n",
    "    print(f\"{multiplier} x {user_num} = {multiplier * user_num}\")"
   ]
  },
  {
   "cell_type": "markdown",
   "metadata": {},
   "source": [
    "## Exercici 2\n",
    "\n",
    "Fes un programa que lletra a lletra, compti les 'a' que hi ha en un text.\n",
    "\n",
    "Per exemple:\n",
    "\n",
    "- \"Hola, com estàs?\" -> 2\n",
    "\n",
    "- \"Aquesta frase no té cap 'a'.\" -> 5"
   ]
  },
  {
   "cell_type": "code",
   "execution_count": 25,
   "metadata": {},
   "outputs": [
    {
     "name": "stdout",
     "output_type": "stream",
     "text": [
      "\"Hola, com estàs?\" -> 2\n"
     ]
    }
   ],
   "source": [
    "# Fes aquí el codi de l'exercici 2\n",
    "user_string = input(\"Introdueix una frase: \")\n",
    "valid_a = \"aàáäâ\"\n",
    "count_a = 0\n",
    "\n",
    "for letter in user_string:\n",
    "    if letter.lower() in valid_a:\n",
    "        count_a = count_a + 1\n",
    "\n",
    "print(f\"\\\"{user_string}\\\" -> {count_a}\")"
   ]
  },
  {
   "cell_type": "markdown",
   "metadata": {},
   "source": [
    "## Exercici 3\n",
    "\n",
    "Fes un programa que donat un rang determinat, mostri els números imparells.\n",
    "\n",
    "Hauràs de fer la funció 'esImparell' que retorna 'True' si el número és imparell i 'False' si és parell.\n",
    "\n",
    "Per exemple:\n",
    "\n",
    "- Entre 2 i 5: 3, 5\n",
    "\n",
    "- Entre 10 i 15: 11, 13, 15"
   ]
  },
  {
   "cell_type": "code",
   "execution_count": 29,
   "metadata": {},
   "outputs": [
    {
     "name": "stdout",
     "output_type": "stream",
     "text": [
      "Números imparells entre 2 i 5: 3 5 "
     ]
    }
   ],
   "source": [
    "# Fes aquí el codi de l'exercici 3\n",
    "def esImparell(num):\n",
    "    return num % 2 != 0\n",
    "\n",
    "min_num_range = int(input(\"Introdueix el número menor del rang: \"))\n",
    "max_num_range = int(input(\"Introdueix el número major del rang: \"))\n",
    "\n",
    "if min_num_range > max_num_range:\n",
    "    tmp = min_num_range\n",
    "    min_num_range = max_num_range\n",
    "    max_num_range = tmp\n",
    "\n",
    "print(f\"Números imparells entre {min_num_range} i {max_num_range}:\", end=\" \")\n",
    "\n",
    "for num in range(min_num_range, max_num_range + 1):\n",
    "    if esImparell(num):\n",
    "        print(num, end=\" \")"
   ]
  },
  {
   "cell_type": "markdown",
   "metadata": {},
   "source": [
    "## Exercici 4\n",
    "\n",
    "Genera un triangle de X astericos.\n",
    "\n",
    "Demana un número entre 1 i 10 a l'usuari.\n",
    "\n",
    "Si l'usuari escrigui un número fora del rang, escriu: \"El número ha d'estar entre 1 i 10\".\n",
    "\n",
    "Si el número és correcte mostra el seu triangle d'astericos.\n",
    "\n",
    "Fes que surti centrat amb la funció de posicionament center a 10 asteriscos d'ample.\n",
    "\n",
    "Per exemple, per 4\n",
    "\n",
    "```text\n",
    "         *\n",
    "         **\n",
    "        ***\n",
    "        ****\n",
    "```"
   ]
  },
  {
   "cell_type": "code",
   "execution_count": 32,
   "metadata": {},
   "outputs": [
    {
     "name": "stdout",
     "output_type": "stream",
     "text": [
      "          \n",
      "    *     \n",
      "    **    \n",
      "   ***    \n",
      "   ****   \n"
     ]
    }
   ],
   "source": [
    "# Fes aquí el codi de l'exercici 4\n",
    "valid_num = False\n",
    "\n",
    "while not valid_num:\n",
    "    user_num = int(input(\"Introdueix in número entre 1 i 10: \"))\n",
    "    if user_num < 0 or user_num > 10:\n",
    "        print(\"Número fora de rang!\")\n",
    "    else:\n",
    "        valid_num = True\n",
    "\n",
    "for i in range(0, user_num):\n",
    "    text = \"\"\n",
    "    for j in range(0, i):\n",
    "        text = text + \"*\"\n",
    "    \n",
    "    print(f\"{text.center(10)}\")"
   ]
  },
  {
   "cell_type": "markdown",
   "metadata": {},
   "source": [
    "## Exercici 5\n",
    "\n",
    "Fes un programa que calculi el factorial d'un número.\n",
    "\n",
    "El factorial d'un número és el producte de tots els números des d'1 fins al número.\n",
    "\n",
    "Exemple:\n",
    "\n",
    "- 5! = 1 x 2 x 3 x 4 x 5 = 120\n",
    "\n",
    "- 10! = 1 x 2 x 3 x 4 x 5 x 6 x 7 x 8 x 9 x 10 = 3628800"
   ]
  },
  {
   "cell_type": "code",
   "execution_count": 35,
   "metadata": {},
   "outputs": [
    {
     "name": "stdout",
     "output_type": "stream",
     "text": [
      "10! = 1 x 2 x 3 x 4 x 5 x 6 x 7 x 8 x 9 x 10 = 3628800\n"
     ]
    }
   ],
   "source": [
    "# Fes aquí el codi de l'exercici 5\n",
    "valid_num = False\n",
    "\n",
    "while not valid_num:\n",
    "    user_num = int(input(\"Introdueix un número per a calcular el seu factorial: \"))\n",
    "    if user_num < 1:\n",
    "        print(\"El número ha de ser major d'1.\")\n",
    "    else:\n",
    "        valid_num = True\n",
    "\n",
    "factorial = 1\n",
    "\n",
    "print(f\"{user_num}! =\", end=\" \")\n",
    "for i in range(1, user_num + 1):\n",
    "    factorial = factorial * i\n",
    "\n",
    "    if i == user_num:\n",
    "        print(f\"{i} =\", end= \" \")\n",
    "    else:\n",
    "        print(f\"{i} x\", end=\" \")\n",
    "\n",
    "print(f\"{factorial}\")"
   ]
  },
  {
   "cell_type": "markdown",
   "metadata": {},
   "source": [
    "## Exercici 6\n",
    "\n",
    "Fes un programa que faci 5 bucles per mostrar la següent taula:\n",
    "```text\n",
    "1     2     3     4     5     6     7     8     9     10\n",
    "2     4     6     8     10    12    14    16    18    20\n",
    "20    22    24    26    28    30    32    34    36    38\n",
    "10    14    18    22    26    30    34    38    42    46\n",
    "40    35    30    25    20    15    10    5     0     -5\n",
    "```"
   ]
  },
  {
   "cell_type": "code",
   "execution_count": 39,
   "metadata": {},
   "outputs": [
    {
     "name": "stdout",
     "output_type": "stream",
     "text": [
      "1     2     3     4     5     6     7     8     9     10    \n",
      "2     4     6     8     10    12    14    16    18    20    \n",
      "20    22    24    26    28    30    32    34    36    38    \n",
      "10    14    18    22    26    30    34    38    42    46    \n",
      "40    35    30    25    20    15    10    5     0     -5    \n",
      "\n",
      "1     2     3     4     5     6     7     8     9     10    \n",
      "2     4     6     8     10    12    14    16    18    20    \n",
      "20    22    24    26    28    30    32    34    36    38    \n",
      "10    14    18    22    26    30    34    38    42    46    \n",
      "40    35    30    25    20    15    10    5     0     -5    \n"
     ]
    }
   ],
   "source": [
    "# Fes aquí el codi de l'exercici 6\n",
    "\n",
    "for i in range(1, 11):\n",
    "    print(str(i).ljust(6), end=\"\")\n",
    "print()\n",
    "\n",
    "for i in range(2, 21, 2):\n",
    "    print(str(i).ljust(6), end=\"\")\n",
    "print()\n",
    "\n",
    "for i in range(20, 40, 2):\n",
    "    print(str(i).ljust(6), end=\"\")\n",
    "print()\n",
    "\n",
    "for i in range(10, 47, 4):\n",
    "    print(str(i).ljust(6), end=\"\")\n",
    "print()\n",
    "\n",
    "for i in range(40, -6, -5):\n",
    "    print(str(i).ljust(6), end=\"\")\n",
    "print(\"\\n\")\n",
    "\n",
    "# Con doble bucle for\n",
    "num_espacios = 6\n",
    "\n",
    "for i in range(1,6):\n",
    "\n",
    "    if i == 1:\n",
    "        a = 1\n",
    "        b = 11\n",
    "        paso = 1\n",
    "    elif i == 2:\n",
    "        a = 2\n",
    "        b = 21\n",
    "        paso = 2\n",
    "    elif i == 3:\n",
    "        a = 20\n",
    "        b = 40\n",
    "        paso = 2\n",
    "    elif i == 4:\n",
    "        a = 10\n",
    "        b = 47\n",
    "        paso = 4\n",
    "    elif i == 5:\n",
    "        a = 40\n",
    "        b = -6\n",
    "        paso = -5\n",
    "\n",
    "\n",
    "    linea = \"\"\n",
    "    for n in range(a,b,paso):\n",
    "        linea += str(n).ljust(num_espacios)\n",
    "    print(linea)\n"
   ]
  },
  {
   "cell_type": "markdown",
   "metadata": {},
   "source": [
    "## La instrucció 'break'\n",
    "\n",
    "En un bucle 'for' la instrucció 'break' permet sortir del bucle abans d'hora.\n",
    "\n",
    "En el moment que s'executa 'break' el bucle s'atura i el programa continua amb la instrucció següent."
   ]
  },
  {
   "cell_type": "code",
   "execution_count": null,
   "metadata": {},
   "outputs": [],
   "source": [
    "# Exemple de 'break' en un bucle, escriurà els números fins a trobar un 0"
   ]
  },
  {
   "cell_type": "markdown",
   "metadata": {},
   "source": [
    "## Exercici 7\n",
    "\n",
    "Fes un programa que demani un número menor que 10 a l'usuari.\n",
    "\n",
    "Aleshores el programa farà un bucle 'for' entre 0 i 10, i a cada iteració: \n",
    "\n",
    "- Si el número és diferent al de l'usuari, escriurà una línia amb \"Comptador: X\" on X és el número de la iteració.\n",
    "\n",
    "- Però si el número de la iteració és igual al número escrit per l'usuari, farà un break."
   ]
  },
  {
   "cell_type": "code",
   "execution_count": 41,
   "metadata": {},
   "outputs": [
    {
     "name": "stdout",
     "output_type": "stream",
     "text": [
      "El rang és de [0-10)\n",
      "El rang és de [0-10)\n",
      "Comptador: 0\n",
      "Comptador: 1\n",
      "Comptador: 2\n",
      "Comptador: 3\n"
     ]
    }
   ],
   "source": [
    "# Fes aquí el codi de l'exercici 7\n",
    "valid_num = False\n",
    "\n",
    "while not valid_num:\n",
    "    num_user = int(input(\"Introdueix un número menor de 10: \"))\n",
    "\n",
    "    if num_user < 0 or num_user >= 10:\n",
    "        print(f\"El número {num_user} es troba fora de rang [0-10)\")\n",
    "    else:\n",
    "        valid_num = True\n",
    "\n",
    "for i in range(0, 10):\n",
    "    if i == num_user:\n",
    "        break\n",
    "    else:\n",
    "        print(f\"Comptador: {i}\")"
   ]
  }
 ],
 "metadata": {
  "kernelspec": {
   "display_name": "Python 3",
   "language": "python",
   "name": "python3"
  },
  "language_info": {
   "codemirror_mode": {
    "name": "ipython",
    "version": 3
   },
   "file_extension": ".py",
   "mimetype": "text/x-python",
   "name": "python",
   "nbconvert_exporter": "python",
   "pygments_lexer": "ipython3",
   "version": "3.12.3"
  },
  "orig_nbformat": 4
 },
 "nbformat": 4,
 "nbformat_minor": 2
}
