{
 "cells": [
  {
   "cell_type": "markdown",
   "metadata": {},
   "source": [
    "<div style=\"display: flex; width: 100%;\">\n",
    "    <div style=\"flex: 1; padding: 0px;\">\n",
    "        <p>© Albert Palacios Jiménez, 2023</p>\n",
    "    </div>\n",
    "    <div style=\"flex: 1; padding: 0px; text-align: right;\">\n",
    "        <img src=\"../assets/ieti.png\" height=\"32\" alt=\"Logo de IETI\" style=\"max-height: 32px;\">\n",
    "    </div>\n",
    "</div>\n",
    "<hr/>"
   ]
  },
  {
   "cell_type": "markdown",
   "metadata": {},
   "source": [
    "# Random, números aleatòris\n",
    "\n",
    "<center><img src=\"../assets/03a_00.png\" height=\"150\" style=\"max-height: 150px;\" /></center>\n",
    "\n",
    "En informàtica és molt important poder generar números aleatòris.\n",
    "\n",
    "Per exemple:\n",
    "\n",
    "* Un joc necessita decidir com atacarà un enemic de manera aleatòria.\n",
    "\n",
    "* Per generar contrasenyes segures i aleatòries.\n",
    "\n",
    "* Per simular dades per fer proves."
   ]
  },
  {
   "cell_type": "markdown",
   "metadata": {},
   "source": [
    "## Funcions per generar números aleatòris:\n",
    "\n",
    "Per poder generar números aleatòris cal importar la llibreria 'import' al principi del programa.\n",
    "```python\n",
    "        import random\n",
    "```\n",
    "Python té diverses funcions per generar números aleatòris:\n",
    "\n",
    "* **random()**: Genera un decimal entre 0 (inclòs) i 1 (exclòs)\n",
    "\n",
    "* **randint(inici, final)**: Genera un número enter aleatòri entre inici i final (inclòssos)\n",
    "\n",
    "* **uniform(inici, final)**: Genera un decimal aleatòri entre inici i final (inclòssos)\n",
    "\n",
    "* **randrange(inici, final, salt)**: Genera un enter aleatòri entre inici i final, però tenint en compte els salts entre els números disponibles (per defecte salt és 1, és a dir tots els enters)"
   ]
  },
  {
   "cell_type": "code",
   "execution_count": 1,
   "metadata": {},
   "outputs": [
    {
     "name": "stdout",
     "output_type": "stream",
     "text": [
      "Número decimal aleatori: 0.15318428649032378\n",
      "Número decimal aleatori: 0.5137295722140962\n",
      "Número decimal aleatori: 0.04664581911250976\n"
     ]
    }
   ],
   "source": [
    "# Exemple de la funció 'random.random()'\n",
    "import random\n",
    "\n",
    "decimal_aleatori = random.random()\n",
    "print(f\"Número decimal aleatori: {decimal_aleatori}\")\n",
    "\n",
    "decimal_aleatori = random.random()\n",
    "print(f\"Número decimal aleatori: {decimal_aleatori}\")\n",
    "\n",
    "decimal_aleatori = random.random()\n",
    "print(f\"Número decimal aleatori: {decimal_aleatori}\")"
   ]
  },
  {
   "cell_type": "code",
   "execution_count": 2,
   "metadata": {},
   "outputs": [
    {
     "name": "stdout",
     "output_type": "stream",
     "text": [
      "Número enter aleatori entre [2 i 8]: 2\n",
      "Número enter aleatori entre [40 i 50]: 49\n",
      "Número enter aleatori entre [200 i 205]: 200\n"
     ]
    }
   ],
   "source": [
    "# Exemple de la funció 'random.randint(inici, final)'\n",
    "import random\n",
    "\n",
    "enter_aleatori = random.randint(2, 8)\n",
    "print(f\"Número enter aleatori entre [2 i 8]: {enter_aleatori}\")\n",
    "\n",
    "enter_aleatori = random.randint(40, 50)\n",
    "print(f\"Número enter aleatori entre [40 i 50]: {enter_aleatori}\")\n",
    "\n",
    "enter_aleatori = random.randint(200, 205)\n",
    "print(f\"Número enter aleatori entre [200 i 205]: {enter_aleatori}\")"
   ]
  },
  {
   "cell_type": "code",
   "execution_count": 3,
   "metadata": {},
   "outputs": [
    {
     "name": "stdout",
     "output_type": "stream",
     "text": [
      "Número decimal aleatori entre [2.5 i 2.8]: 2.7190219114663003\n",
      "Número decimal aleatori entre [55.6 i 65.2]: 58.30032018819044\n",
      "Número decimal aleatori entre [4 i 5]: 4.0871022528515955\n"
     ]
    }
   ],
   "source": [
    "# Exemple de la funció 'random.uniform(inici, final)'\n",
    "import random\n",
    "\n",
    "decimal_aleatori = random.uniform(2.5, 2.8)\n",
    "print(f\"Número decimal aleatori entre [2.5 i 2.8]: {decimal_aleatori}\")\n",
    "\n",
    "decimal_aleatori = random.uniform(55.6, 65.2)\n",
    "print(f\"Número decimal aleatori entre [55.6 i 65.2]: {decimal_aleatori}\")\n",
    "\n",
    "decimal_aleatori = random.uniform(4, 5)\n",
    "print(f\"Número decimal aleatori entre [4 i 5]: {decimal_aleatori}\")"
   ]
  },
  {
   "cell_type": "code",
   "execution_count": 4,
   "metadata": {},
   "outputs": [
    {
     "name": "stdout",
     "output_type": "stream",
     "text": [
      "Número enter aleatori entre [0 i 10] de 2 en 2: 4\n",
      "Número enter aleatori entre [0 i 10] de 3 en 3: 3\n",
      "Número enter aleatori entre [0 i 10] de 4 en 4: 0\n"
     ]
    }
   ],
   "source": [
    "# Exemple de la funció 'random.randrange(inici, final, salt)'\n",
    "import random\n",
    "\n",
    "enter_aleatori = random.randrange(0, 10, 2)\n",
    "print(f\"Número enter aleatori entre [0 i 10] de 2 en 2: {enter_aleatori}\")\n",
    "\n",
    "enter_aleatori = random.randrange(0, 10, 3)\n",
    "print(f\"Número enter aleatori entre [0 i 10] de 3 en 3: {enter_aleatori}\")\n",
    "\n",
    "enter_aleatori = random.randrange(0, 10, 4)\n",
    "print(f\"Número enter aleatori entre [0 i 10] de 4 en 4: {enter_aleatori}\")"
   ]
  }
 ],
 "metadata": {
  "kernelspec": {
   "display_name": "Python 3",
   "language": "python",
   "name": "python3"
  },
  "language_info": {
   "codemirror_mode": {
    "name": "ipython",
    "version": 3
   },
   "file_extension": ".py",
   "mimetype": "text/x-python",
   "name": "python",
   "nbconvert_exporter": "python",
   "pygments_lexer": "ipython3",
   "version": "3.12.3"
  },
  "orig_nbformat": 4
 },
 "nbformat": 4,
 "nbformat_minor": 2
}
